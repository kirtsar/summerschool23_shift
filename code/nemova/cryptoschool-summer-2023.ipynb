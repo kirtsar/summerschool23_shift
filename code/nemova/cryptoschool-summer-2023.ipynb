{
 "cells": [
  {
   "cell_type": "code",
   "execution_count": 1,
   "id": "d93826f2",
   "metadata": {},
   "outputs": [
    {
     "name": "stdout",
     "output_type": "stream",
     "text": [
      "Requirement already satisfied: scipy in /opt/homebrew/Cellar/jupyterlab/3.6.1/libexec/lib/python3.11/site-packages (1.11.1)\n",
      "Requirement already satisfied: numpy<1.28.0,>=1.21.6 in /opt/homebrew/Cellar/jupyterlab/3.6.1/libexec/lib/python3.11/site-packages (from scipy) (1.24.3)\n",
      "\n",
      "\u001b[1m[\u001b[0m\u001b[34;49mnotice\u001b[0m\u001b[1;39;49m]\u001b[0m\u001b[39;49m A new release of pip is available: \u001b[0m\u001b[31;49m23.1.2\u001b[0m\u001b[39;49m -> \u001b[0m\u001b[32;49m23.2.1\u001b[0m\n",
      "\u001b[1m[\u001b[0m\u001b[34;49mnotice\u001b[0m\u001b[1;39;49m]\u001b[0m\u001b[39;49m To update, run: \u001b[0m\u001b[32;49mpython3.11 -m pip install --upgrade pip\u001b[0m\n",
      "Note: you may need to restart the kernel to use updated packages.\n"
     ]
    }
   ],
   "source": [
    "pip install scipy"
   ]
  },
  {
   "cell_type": "code",
   "execution_count": 2,
   "id": "8bedf5f4",
   "metadata": {},
   "outputs": [
    {
     "name": "stdout",
     "output_type": "stream",
     "text": [
      "Requirement already satisfied: sympy in /opt/homebrew/Cellar/jupyterlab/3.6.1/libexec/lib/python3.11/site-packages (1.12)\n",
      "Requirement already satisfied: mpmath>=0.19 in /opt/homebrew/Cellar/jupyterlab/3.6.1/libexec/lib/python3.11/site-packages (from sympy) (1.3.0)\n",
      "\n",
      "\u001b[1m[\u001b[0m\u001b[34;49mnotice\u001b[0m\u001b[1;39;49m]\u001b[0m\u001b[39;49m A new release of pip is available: \u001b[0m\u001b[31;49m23.1.2\u001b[0m\u001b[39;49m -> \u001b[0m\u001b[32;49m23.2.1\u001b[0m\n",
      "\u001b[1m[\u001b[0m\u001b[34;49mnotice\u001b[0m\u001b[1;39;49m]\u001b[0m\u001b[39;49m To update, run: \u001b[0m\u001b[32;49mpython3.11 -m pip install --upgrade pip\u001b[0m\n",
      "Note: you may need to restart the kernel to use updated packages.\n"
     ]
    }
   ],
   "source": [
    "pip install sympy"
   ]
  },
  {
   "cell_type": "code",
   "execution_count": 3,
   "id": "12b7af60",
   "metadata": {},
   "outputs": [],
   "source": [
    "from sympy import combinatorics\n",
    "from sympy.combinatorics import Permutation, PermutationGroup\n",
    "from sympy.combinatorics import Polyhedron\n",
    "from sympy.functions.combinatorial.numbers import stirling, bell\n",
    "from math import factorial\n",
    "from itertools import permutations\n",
    "from scipy.stats import chisquare\n",
    "import numpy as np"
   ]
  },
  {
   "cell_type": "code",
   "execution_count": 4,
   "id": "1682d305",
   "metadata": {},
   "outputs": [],
   "source": [
    "def count_records_exp(k, n): \n",
    "    return stirling(n,k, kind=1) / factorial(n)"
   ]
  },
  {
   "cell_type": "code",
   "execution_count": 5,
   "id": "4a2bc8ae",
   "metadata": {},
   "outputs": [],
   "source": [
    "def gen_permutation_selection(n):\n",
    "    return [Permutation(x) for x in permutations(range(n))]"
   ]
  },
  {
   "cell_type": "code",
   "execution_count": 6,
   "id": "d04f1d8f",
   "metadata": {},
   "outputs": [],
   "source": [
    "def count_records(permutation: Permutation): \n",
    "    maximum = -1\n",
    "    records = 0 \n",
    "    for index, elem in enumerate(permutation.list()): \n",
    "         if elem > maximum: \n",
    "            records += 1\n",
    "            maximum = elem    \n",
    "    return records"
   ]
  },
  {
   "cell_type": "code",
   "execution_count": 34,
   "id": "0b259356",
   "metadata": {},
   "outputs": [],
   "source": [
    "def analyze_records(n): \n",
    "    selection = gen_permutation_selection(n)\n",
    "    records_counts_ob, records_counts_exp = [0] * n, [0] * n\n",
    "    \n",
    "    length = factorial(n)\n",
    "    for item in selection: \n",
    "        records_counts_ob[count_records(item) - 1] += 1\n",
    "    for i in range(n): \n",
    "        records_counts_exp[i] = count_records_exp(i + 1, n) * length\n",
    "        \n",
    "    return np.array([float(i) for i in records_counts_ob]), np.array([float(i) for i in records_counts_exp])"
   ]
  },
  {
   "cell_type": "code",
   "execution_count": 35,
   "id": "d2d69dfe",
   "metadata": {},
   "outputs": [],
   "source": [
    "(ob, exp) = process(5)"
   ]
  },
  {
   "cell_type": "code",
   "execution_count": 36,
   "id": "6d995a93",
   "metadata": {},
   "outputs": [
    {
     "data": {
      "text/plain": [
       "Power_divergenceResult(statistic=0.0, pvalue=1.0)"
      ]
     },
     "execution_count": 36,
     "metadata": {},
     "output_type": "execute_result"
    }
   ],
   "source": [
    "chisquare(f_obs=np.array(ob), f_exp=np.array(exp))"
   ]
  },
  {
   "cell_type": "code",
   "execution_count": null,
   "id": "c06f20d8",
   "metadata": {},
   "outputs": [],
   "source": []
  }
 ],
 "metadata": {
  "kernelspec": {
   "display_name": "Python 3 (ipykernel)",
   "language": "python",
   "name": "python3"
  },
  "language_info": {
   "codemirror_mode": {
    "name": "ipython",
    "version": 3
   },
   "file_extension": ".py",
   "mimetype": "text/x-python",
   "name": "python",
   "nbconvert_exporter": "python",
   "pygments_lexer": "ipython3",
   "version": "3.11.2"
  }
 },
 "nbformat": 4,
 "nbformat_minor": 5
}
