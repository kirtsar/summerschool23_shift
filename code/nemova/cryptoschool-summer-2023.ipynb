{
 "cells": [
  {
   "cell_type": "code",
   "execution_count": 115,
   "id": "481a046c",
   "metadata": {},
   "outputs": [
    {
     "name": "stdout",
     "output_type": "stream",
     "text": [
      "Requirement already satisfied: scipy in /opt/homebrew/Cellar/jupyterlab/3.6.1/libexec/lib/python3.11/site-packages (1.11.1)\n",
      "Requirement already satisfied: numpy<1.28.0,>=1.21.6 in /opt/homebrew/Cellar/jupyterlab/3.6.1/libexec/lib/python3.11/site-packages (from scipy) (1.24.3)\n",
      "\n",
      "\u001b[1m[\u001b[0m\u001b[34;49mnotice\u001b[0m\u001b[1;39;49m]\u001b[0m\u001b[39;49m A new release of pip is available: \u001b[0m\u001b[31;49m23.1.2\u001b[0m\u001b[39;49m -> \u001b[0m\u001b[32;49m23.2.1\u001b[0m\n",
      "\u001b[1m[\u001b[0m\u001b[34;49mnotice\u001b[0m\u001b[1;39;49m]\u001b[0m\u001b[39;49m To update, run: \u001b[0m\u001b[32;49mpython3.11 -m pip install --upgrade pip\u001b[0m\n",
      "Note: you may need to restart the kernel to use updated packages.\n"
     ]
    }
   ],
   "source": [
    "pip install scipy"
   ]
  },
  {
   "cell_type": "code",
   "execution_count": 116,
   "id": "adab2878",
   "metadata": {},
   "outputs": [
    {
     "name": "stdout",
     "output_type": "stream",
     "text": [
      "Requirement already satisfied: sympy in /opt/homebrew/Cellar/jupyterlab/3.6.1/libexec/lib/python3.11/site-packages (1.12)\n",
      "Requirement already satisfied: mpmath>=0.19 in /opt/homebrew/Cellar/jupyterlab/3.6.1/libexec/lib/python3.11/site-packages (from sympy) (1.3.0)\n",
      "\n",
      "\u001b[1m[\u001b[0m\u001b[34;49mnotice\u001b[0m\u001b[1;39;49m]\u001b[0m\u001b[39;49m A new release of pip is available: \u001b[0m\u001b[31;49m23.1.2\u001b[0m\u001b[39;49m -> \u001b[0m\u001b[32;49m23.2.1\u001b[0m\n",
      "\u001b[1m[\u001b[0m\u001b[34;49mnotice\u001b[0m\u001b[1;39;49m]\u001b[0m\u001b[39;49m To update, run: \u001b[0m\u001b[32;49mpython3.11 -m pip install --upgrade pip\u001b[0m\n",
      "Note: you may need to restart the kernel to use updated packages.\n"
     ]
    }
   ],
   "source": [
    "pip install sympy"
   ]
  },
  {
   "cell_type": "code",
   "execution_count": 144,
   "id": "e4ba5ccc",
   "metadata": {},
   "outputs": [],
   "source": [
    "from sympy import combinatorics\n",
    "from sympy.combinatorics import Permutation, PermutationGroup\n",
    "from sympy.combinatorics import Polyhedron\n",
    "from sympy.functions.combinatorial.numbers import stirling, bell\n",
    "from math import factorial, floor\n",
    "from itertools import permutations\n",
    "from scipy.stats import chisquare\n",
    "from numpy.polynomial import Polynomial\n",
    "import random\n",
    "import numpy as np\n",
    "import sympy as sym"
   ]
  },
  {
   "cell_type": "markdown",
   "id": "30d39bd1",
   "metadata": {},
   "source": [
    "## Records count : expected and observable"
   ]
  },
  {
   "cell_type": "code",
   "execution_count": 118,
   "id": "dfc99578",
   "metadata": {},
   "outputs": [],
   "source": [
    "def count_records_exp(k, n): \n",
    "    return stirling(n,k, kind=1) / factorial(n)"
   ]
  },
  {
   "cell_type": "code",
   "execution_count": 119,
   "id": "95b6273f",
   "metadata": {},
   "outputs": [],
   "source": [
    "def gen_selection_for_permutation_group(N, n): \n",
    "    group = [Permutation(x) for x in permutations(range(n))]\n",
    "    size = factorial(n)\n",
    "    if N == size: \n",
    "        return group\n",
    "    elif N < size: \n",
    "        return random.sample(group, N)\n",
    "    else: \n",
    "        raise Exception('Incorrect selection size, N = {} should be less n = {}'.format(N, size))"
   ]
  },
  {
   "cell_type": "code",
   "execution_count": 120,
   "id": "a1207c0e",
   "metadata": {},
   "outputs": [],
   "source": [
    "def count_records(permutation: Permutation): \n",
    "    maximum = -1\n",
    "    records = 0 \n",
    "    for index, elem in enumerate(permutation.list()): \n",
    "         if elem > maximum: \n",
    "            records += 1\n",
    "            maximum = elem    \n",
    "    return records"
   ]
  },
  {
   "cell_type": "code",
   "execution_count": 122,
   "id": "3b0898f5",
   "metadata": {},
   "outputs": [],
   "source": [
    "def analyze_records(selection, n): \n",
    "    selection_size = len(selection)\n",
    "    records_counts_ob, records_counts_exp = [0] * n, [0] * n\n",
    "    \n",
    "    length = factorial(n)\n",
    "    for item in selection: \n",
    "        records_counts_ob[count_records(item) - 1] += 1\n",
    "    for i in range(n): \n",
    "        records_counts_exp[i] = count_records_exp(i + 1, n) \n",
    "        \n",
    "    (ob, exp) = np.array([float(i / selection_size) for i in records_counts_ob]), np.array([float(i) for i in records_counts_exp])\n",
    "        \n",
    "    return chisquare(f_obs=ob, f_exp=exp)"
   ]
  },
  {
   "cell_type": "markdown",
   "id": "59003f3b",
   "metadata": {},
   "source": [
    "## Shortest cycle length : expected and observable"
   ]
  },
  {
   "cell_type": "code",
   "execution_count": 202,
   "id": "aa2182d5",
   "metadata": {},
   "outputs": [],
   "source": [
    "def expindex(x, M):\n",
    "    res = x\n",
    "    for i in range(2, M + 1):\n",
    "        res += (x**i) / i\n",
    "    return -res\n",
    "\n",
    "def nthcoeff(f, x, n):\n",
    "    res = sym.diff(f, x, n)\n",
    "    return res.subs(x, 0) / factorial(n)\n",
    "\n",
    "def get_polynom_for_cycle_length(M, n): \n",
    "    x = sym.Symbol('x')\n",
    "    f = 1 - sym.exp(-x) if  M == 0 else sym.exp(expindex(x, M)) - sym.exp(expindex(x, M + 1))\n",
    "    return nthcoeff(f / (1 - x), x, n)\n",
    "\n",
    "def short_cycle_length(permutation):\n",
    "    return min(permutation.cycle_structure.keys())"
   ]
  },
  {
   "cell_type": "code",
   "execution_count": 203,
   "id": "dd212232",
   "metadata": {},
   "outputs": [],
   "source": [
    "def analyze_cycle_length(selection, n): \n",
    "    selection_size = len(selection)\n",
    "    short_cycle_length_ob, short_cycle_length_exp = [0] * n, [0] * n\n",
    "\n",
    "    length = factorial(n)\n",
    "    for item in selection: \n",
    "        short_cycle_length_ob[short_cycle_length(item) - 1] += 1\n",
    "    for i in range(floor(n / 2) + 1): \n",
    "        short_cycle_length_exp[i] = get_polynom_for_cycle_length(i, n) \n",
    "    short_cycle_length_exp[n-1] = get_polynom_for_cycle_length(n-1, n)\n",
    "        \n",
    "    (ob, exp) = np.array([float(i / selection_size) for i in short_cycle_length_ob]), np.array([float(i) for i in short_cycle_length_exp])\n",
    "    ob = np.trim_zeros(np.sort(ob))\n",
    "    exp = np.trim_zeros(np.sort(exp))\n",
    "    \n",
    "    return chisquare(f_obs=ob, f_exp=exp)"
   ]
  },
  {
   "cell_type": "code",
   "execution_count": 204,
   "id": "26528e04",
   "metadata": {},
   "outputs": [
    {
     "data": {
      "text/plain": [
       "Power_divergenceResult(statistic=0.002757623530555431, pvalue=0.999999978779357)"
      ]
     },
     "execution_count": 204,
     "metadata": {},
     "output_type": "execute_result"
    }
   ],
   "source": [
    "selection = gen_selection_for_permutation_group(2_000, 10)\n",
    "analyze_cycle_length(selection, 10)"
   ]
  },
  {
   "cell_type": "code",
   "execution_count": null,
   "id": "a29ede45",
   "metadata": {},
   "outputs": [],
   "source": []
  }
 ],
 "metadata": {
  "kernelspec": {
   "display_name": "Python 3 (ipykernel)",
   "language": "python",
   "name": "python3"
  },
  "language_info": {
   "codemirror_mode": {
    "name": "ipython",
    "version": 3
   },
   "file_extension": ".py",
   "mimetype": "text/x-python",
   "name": "python",
   "nbconvert_exporter": "python",
   "pygments_lexer": "ipython3",
   "version": "3.11.2"
  }
 },
 "nbformat": 4,
 "nbformat_minor": 5
}
