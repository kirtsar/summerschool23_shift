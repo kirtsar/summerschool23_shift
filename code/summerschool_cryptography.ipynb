{
 "cells": [
  {
   "cell_type": "code",
   "execution_count": 197,
   "id": "1ee4bf94",
   "metadata": {},
   "outputs": [],
   "source": [
    "from sympy.combinatorics import Permutation, PermutationGroup\n",
    "import numpy as np\n",
    "import math\n",
    "import sympy\n",
    "import sympy.functions.combinatorial.numbers as math_num\n",
    "from scipy.stats import chisquare\n",
    "from scipy.stats import chi2\n",
    "import pandas as pd\n",
    "import seaborn as sns\n",
    "import matplotlib.pyplot as plt\n",
    "import time\n",
    "\n",
    "import time\n",
    "from progress.bar import IncrementalBar\n",
    "\n",
    "# stat1, pvalue = chisquare(f_obs=num_of_cycles, f_exp=E_num_of_cycles)"
   ]
  },
  {
   "cell_type": "code",
   "execution_count": 198,
   "id": "4f5c561b",
   "metadata": {},
   "outputs": [],
   "source": [
    "def conv(x, y):\n",
    "    r = max(len(x) - 1, len(y) - 1)\n",
    "    last_sum1 = 0\n",
    "    last_sum2 = 0\n",
    "    while ((last_sum1 < 5) | (last_sum2 < 5)) &  (r >= 0):\n",
    "        if (r <= len(x) - 1):\n",
    "            last_sum1 += x[r]\n",
    "        if (r <= len(y) - 1):\n",
    "            last_sum2 += y[r]\n",
    "        r = r - 1\n",
    "    r += 1\n",
    "    new_x = [0 for i in range(r+1)]\n",
    "    new_y = [0 for i in range(r+1)]\n",
    "    for i in range(r):\n",
    "        new_x[i] = x[i]\n",
    "        new_y[i] = y[i]\n",
    "    new_x[r] = last_sum1   \n",
    "    new_y[r] = last_sum2\n",
    "    # new_x, new_y = np.trim_zeros(new_x), np.trim_zeros(new_y)\n",
    "    while 0 in new_x: new_x.remove(0)\n",
    "    while 0 in new_y: new_y.remove(0)\n",
    "    #while(new_y[0] == 0):\n",
    "    #    new_y = new_y[1:]\n",
    "    return (new_x, new_y)"
   ]
  },
  {
   "cell_type": "code",
   "execution_count": 199,
   "id": "98c375db",
   "metadata": {},
   "outputs": [],
   "source": [
    "def chi(O, E):\n",
    "    print(O)\n",
    "    print(E)\n",
    "    O,E = conv(O, E)\n",
    "    l = len(O)\n",
    "    while 0 in O: O.remove(0)\n",
    "    while 0 in E: E.remove(0)\n",
    "    print(O)\n",
    "    print(E)\n",
    "    r = 0\n",
    "    for i in range(len(O)):\n",
    "        r += (O[i] - E[i])**2/E[i]\n",
    "    return (r, l)"
   ]
  },
  {
   "cell_type": "markdown",
   "id": "3b3dcdf6",
   "metadata": {},
   "source": [
    "## Permutation"
   ]
  },
  {
   "cell_type": "code",
   "execution_count": 200,
   "id": "cde77c54",
   "metadata": {},
   "outputs": [
    {
     "name": "stdout",
     "output_type": "stream",
     "text": [
      "(0 6 7 8)(1 9)(2 3 4 5)\n",
      "2\n",
      "[0, 405, 1163, 1354, 798, 304, 63, 8, 1, 0, 0]\n",
      "[1538, 1492, 764, 228, 63, 9, 2, 0, 0, 0, 0]\n",
      "[0, 2558, 631, 248, 162, 92, 0, 0, 0, 0, 405]\n"
     ]
    }
   ],
   "source": [
    "n = 10  # длина подстановки\n",
    "N = 2 ** 12 # размер выборки подстановок\n",
    "\n",
    "num_of_cycles = [0 for k in range(n+1)]\n",
    "num_of_fixed_points = [0 for k in range(n+1)]\n",
    "num_shortest_cycle = [0 for k in range(n+1)]\n",
    "\n",
    "a = Permutation(np.random.permutation(n))\n",
    "print(a)\n",
    "print(min(a.cycle_structure.keys()))\n",
    "\n",
    "for i in range(N):\n",
    "    a = Permutation(np.random.permutation(n))\n",
    "    cycle_num = a.cycles\n",
    "    num_of_cycles[a.cycles] += 1\n",
    "    if 1 in a.cycle_structure.keys():\n",
    "        num_of_fixed_points[a.cycle_structure[1]]  += 1\n",
    "    else:\n",
    "        num_of_fixed_points[0] += 1\n",
    "    num_shortest_cycle[min(a.cycle_structure.keys())] += 1 \n",
    "    \n",
    "print(num_of_cycles)\n",
    "print(num_of_fixed_points)\n",
    "print(num_shortest_cycle)"
   ]
  },
  {
   "cell_type": "markdown",
   "id": "4bc8b561",
   "metadata": {},
   "source": [
    "## Comparison of statistical distributions"
   ]
  },
  {
   "cell_type": "code",
   "execution_count": 201,
   "id": "cf174268",
   "metadata": {},
   "outputs": [
    {
     "name": "stdout",
     "output_type": "stream",
     "text": [
      "[1538, 1492, 764, 228, 63, 9, 2, 0, 0, 0, 0]\n",
      "[1506.8342857142857, 1506.8331569664904, 753.4222222222222, 251.12380952380954, 62.81481481481482, 12.515555555555554, 2.1333333333333333, 0.27089947089947086, 0.050793650793650794, 0, 0.00112874779541446]\n",
      "[1538, 1492, 764, 228, 63, 11]\n",
      "[1506.8342857142857, 1506.8331569664904, 753.4222222222222, 251.12380952380954, 62.81481481481482, 14.9717107583774]\n",
      "Квантиль степени 5 = 11.070497693516351\n",
      "Статистика для k неподвижных точек = 4.12255845463064\n",
      "p-value = 0.5319089928631711\n"
     ]
    }
   ],
   "source": [
    "# Неподвижные точки\n",
    "E_prob_of_fixed_points = [((1 / math.factorial(k)) * (sympy.subfactorial(n - k) / math.factorial(n - k))) for k in range(n+1)]\n",
    "E_num_of_fixed_points = [ x*N  for x in E_prob_of_fixed_points]\n",
    "(num_of_fixed_points_stat, points_array_len) = chi(num_of_fixed_points, E_num_of_fixed_points)\n",
    "\n",
    "# print(E_num_of_fixed_points)\n",
    "\n",
    "points_quantile = chi2.ppf(1-0.05, df=points_array_len-1)\n",
    "p_value = chi2.sf(float(num_of_fixed_points_stat), int(points_array_len-1))\n",
    "\n",
    "print(\"Квантиль степени \" + str(points_array_len - 1) + \" = \" + str(points_quantile))\n",
    "print(\"Статистика для k неподвижных точек = \" + str(num_of_fixed_points_stat))\n",
    "print(\"p-value = \" + str(p_value))"
   ]
  },
  {
   "cell_type": "code",
   "execution_count": 202,
   "id": "8522737c",
   "metadata": {},
   "outputs": [
    {
     "name": "stdout",
     "output_type": "stream",
     "text": [
      "[0, 405, 1163, 1354, 798, 304, 63, 8, 1, 0, 0]\n",
      "[0, 409.600000000000, 1158.74539682540, 1323.68253968254, 816.852204585538, 304.000000000000, 71.4192592592592, 10.6666666666667, 0.982010582010582, 0.0507936507936508, 0.00112874779541446]\n",
      "[405, 1163, 1354, 798, 304, 63, 9]\n",
      "[409.600000000000, 1158.74539682540, 1323.68253968254, 816.852204585538, 304.000000000000, 71.4192592592592, 11.7005996472663]\n",
      "Квантиль степени 6 = 12.591587243743977\n",
      "Статистика для ровно k циклов = 2.81258709856206\n",
      "p-value = 0.8319747646238366\n"
     ]
    }
   ],
   "source": [
    "# Длины циклов\n",
    "E_prob_of_cycles = [((1 / math.factorial(n)) * math_num.stirling(n, k, kind=1)) for k in range(len(num_of_cycles))]\n",
    "E_num_of_cycles = [ x*N  for x in E_prob_of_cycles]\n",
    "(num_of_cycle_stat, cycle_array_len) = chi(num_of_cycles, E_num_of_cycles)\n",
    "\n",
    "#print(E_num_of_cycles)\n",
    "\n",
    "cycle_quantile = chi2.ppf(1-0.05, df=cycle_array_len-1)\n",
    "p_value = chi2.sf(float(num_of_cycle_stat), int(cycle_array_len-1))\n",
    "\n",
    "print(\"Квантиль степени \" + str(cycle_array_len - 1) + \" = \" + str(cycle_quantile))\n",
    "print(\"Статистика для ровно k циклов = \" + str(num_of_cycle_stat))\n",
    "print(\"p-value = \" + str(p_value))"
   ]
  },
  {
   "cell_type": "code",
   "execution_count": 203,
   "id": "e594e19b",
   "metadata": {},
   "outputs": [],
   "source": [
    "# Кратчайший цикл имеет длину k\n",
    "\n",
    "def expindex(x, M):\n",
    "    res = x\n",
    "    for i in range(2, M + 1):\n",
    "        res += (x**i) / i\n",
    "    return -res\n",
    "\n",
    "def nthcoeff(f, x, n):\n",
    "    res = sympy.diff(f, x, n)\n",
    "    return res.subs(x, 0) / math.factorial(n)\n",
    "\n",
    "def get_polynom_for_cycle_length(M, n): \n",
    "    x = sympy.Symbol('x')\n",
    "    f = 1 - sympy.exp(-x) if  M == 0 else sympy.exp(expindex(x, M)) - sympy.exp(expindex(x, M + 1))\n",
    "    return nthcoeff(f / (1 - x), x, n)\n",
    "\n",
    "def gen_prob_of_shortest_cycles(n):\n",
    "    t = time.perf_counter()\n",
    "    short_cycle_length_exp = [0] * n\n",
    "    for i in tqdm(range(math.floor(n / 2) + 1)):\n",
    "        short_cycle_length_exp[i] = get_polynom_for_cycle_length(i, n) \n",
    "    short_cycle_length_exp[n-1] = get_polynom_for_cycle_length(n-1, n)\n",
    "    exp = np.array(np.array([float(i) for i in short_cycle_length_exp]))\n",
    "    # exp = np.trim_zeros(np.sort(exp))\n",
    "    return exp\n",
    "\n",
    "def gen_prob_of_shortest_cycles2(n):\n",
    "    exp = [0] * n\n",
    "    for i in range(1, math.floor(n / 2)):\n",
    "        exp[i] = math.exp(-sympy.harmonic(i)) - math.exp(-sympy.harmonic(i+1))\n",
    "    exp[0] = 1 - math.exp(-1)\n",
    "    exp[n-1] = 1 / n\n",
    "    return exp\n"
   ]
  },
  {
   "cell_type": "code",
   "execution_count": 204,
   "id": "4e2d64dc",
   "metadata": {},
   "outputs": [
    {
     "name": "stderr",
     "output_type": "stream",
     "text": [
      "100%|█████████████████████████████████████████████| 6/6 [00:02<00:00,  2.63it/s]\n"
     ]
    },
    {
     "name": "stdout",
     "output_type": "stream",
     "text": [
      "[2589.165808961772, 592.8930550702593, 259.0736960255423, 144.8561649072986, 92.44935974735574, 0, 0, 0, 0, 409.6]\n",
      "[2589.1657142857143, 592.7111111111111, 251.93650793650792, 170.66666666666666, 81.92, 0.0, 0.0, 0.0, 0.0, 409.6]\n",
      "[2589.165808961772, 592.8930550702593, 259.0736960255423, 144.8561649072986, 92.44935974735574, 409.6]\n",
      "[2589.1657142857143, 592.7111111111111, 251.93650793650792, 170.66666666666666, 81.92, 409.6]\n",
      "Квантиль степени 5 = 11.070497693516351\n",
      "Статистика для минимального цикла длины k = 5.459019666288368\n",
      "p-value = 0.36246045159685264\n"
     ]
    }
   ],
   "source": [
    "# Кратчайший цикл имеет длину k\n",
    "\n",
    "E_prob_of_shortest_cycle = gen_prob_of_shortest_cycles(n)\n",
    "E_num_of_shortest_cycle = [ x*N  for x in E_prob_of_shortest_cycle]\n",
    "\n",
    "num_shortest_cycle = gen_prob_of_shortest_cycles2(n)\n",
    "num_shortest_cycle = [ x*N  for x in num_shortest_cycle]\n",
    "\n",
    "(shortest_cycle_stat, shortest_cycle_array_len) = chi(num_shortest_cycle, E_num_of_shortest_cycle)\n",
    "\n",
    "shortest_cycle_quantile = chi2.ppf(1-0.05, df=shortest_cycle_array_len-1)\n",
    "p_value = chi2.sf(float(shortest_cycle_stat), int(shortest_cycle_array_len-1))\n",
    "\n",
    "print(\"Квантиль степени \" + str(shortest_cycle_array_len - 1) + \" = \" + str(shortest_cycle_quantile))\n",
    "print(\"Статистика для минимального цикла длины k = \" + str(shortest_cycle_stat))\n",
    "print(\"p-value = \" + str(p_value))"
   ]
  },
  {
   "cell_type": "markdown",
   "id": "d1670fe3",
   "metadata": {},
   "source": [
    "## Show distributions"
   ]
  },
  {
   "cell_type": "code",
   "execution_count": 205,
   "id": "3fd34204",
   "metadata": {},
   "outputs": [],
   "source": [
    "\n",
    "(inf, coef) = compare_formulas(n, n)\n",
    "x = np.array([i for i in range(1, len(coef) + 1)])\n",
    "plt.scatter(x, inf, c='b', marker='x', label='Limit of \\\"n\\\" to infinity', alpha=0.5)\n",
    "plt.plot(x, inf, c='b', alpha=0.4)\n",
    "plt.scatter(x, coef, c='r', marker='s', label='Got \\\"n\\\" from coefficients', alpha=0.5)\n",
    "plt.plot(x, coef, c='r', alpha=0.4)\n",
    "plt.legend(loc='center')\n",
    "plt.xlabel('Minimal cycle lengths', fontsize=10, labelpad=18)\n",
    "plt.ylabel('Probability', fontsize=10, labelpad=18)\n",
    "plt.title('Probabilities for the minimum cycle lengths (n = {})'.format(n), fontsize=14)\n",
    "plt.grid()\n",
    "plt.show()\n"
   ]
  },
  {
   "cell_type": "code",
   "execution_count": null,
   "id": "1d4f1c6f",
   "metadata": {},
   "outputs": [],
   "source": []
  },
  {
   "cell_type": "markdown",
   "id": "a13e662c",
   "metadata": {},
   "source": [
    "## Correlation table"
   ]
  },
  {
   "cell_type": "code",
   "execution_count": 161,
   "id": "fe166be6",
   "metadata": {},
   "outputs": [],
   "source": [
    "def count_records(permutation: Permutation): \n",
    "    maximum = -1\n",
    "    records = 0 \n",
    "    for index, elem in enumerate(permutation.list()): \n",
    "         if elem > maximum: \n",
    "            records += 1\n",
    "            maximum = elem    \n",
    "    return records"
   ]
  },
  {
   "cell_type": "code",
   "execution_count": 206,
   "id": "94f1c83e",
   "metadata": {
    "scrolled": true
   },
   "outputs": [
    {
     "name": "stderr",
     "output_type": "stream",
     "text": [
      "100%|██████████████████████████████████████| 1024/1024 [00:01<00:00, 636.15it/s]\n"
     ]
    },
    {
     "name": "stdout",
     "output_type": "stream",
     "text": [
      "n=25 N=1024  - Done, Time: 1.6\n"
     ]
    },
    {
     "name": "stderr",
     "output_type": "stream",
     "text": [
      " 81%|██████████████████████████████▌       | 3300/4096 [00:05<00:01, 619.12it/s]\n"
     ]
    },
    {
     "ename": "KeyboardInterrupt",
     "evalue": "",
     "output_type": "error",
     "traceback": [
      "\u001b[0;31m---------------------------------------------------------------------------\u001b[0m",
      "\u001b[0;31mKeyboardInterrupt\u001b[0m                         Traceback (most recent call last)",
      "Cell \u001b[0;32mIn [206], line 44\u001b[0m\n\u001b[1;32m     41\u001b[0m     \u001b[38;5;28;01mfor\u001b[39;00m x \u001b[38;5;129;01min\u001b[39;00m \u001b[38;5;28mlist\u001b[39m(a\u001b[38;5;241m.\u001b[39mcycle_structure\u001b[38;5;241m.\u001b[39mkeys()):\n\u001b[1;32m     42\u001b[0m         order \u001b[38;5;241m=\u001b[39m np\u001b[38;5;241m.\u001b[39mlcm(order, x)\n\u001b[0;32m---> 44\u001b[0m     \u001b[43mdf\u001b[49m\u001b[38;5;241;43m.\u001b[39;49m\u001b[43mloc\u001b[49m\u001b[43m[\u001b[49m\u001b[38;5;28;43mlen\u001b[39;49m\u001b[43m(\u001b[49m\u001b[43mdf\u001b[49m\u001b[43m)\u001b[49m\u001b[43m]\u001b[49m \u001b[38;5;241m=\u001b[39m [num_of_fixed_points, length_of_shortes_cycle, num_of_records, num_of_cycles, order]\n\u001b[1;32m     46\u001b[0m \u001b[38;5;28mprint\u001b[39m(\u001b[38;5;124m\"\u001b[39m\u001b[38;5;124mn=\u001b[39m\u001b[38;5;124m\"\u001b[39m\u001b[38;5;241m+\u001b[39m \u001b[38;5;28mstr\u001b[39m(n), \u001b[38;5;124m\"\u001b[39m\u001b[38;5;124mN=\u001b[39m\u001b[38;5;124m\"\u001b[39m \u001b[38;5;241m+\u001b[39m \u001b[38;5;28mstr\u001b[39m(N), \u001b[38;5;124m\"\u001b[39m\u001b[38;5;124m - Done,\u001b[39m\u001b[38;5;124m\"\u001b[39m \u001b[38;5;241m+\u001b[39m \u001b[38;5;124m\"\u001b[39m\u001b[38;5;124m Time: \u001b[39m\u001b[38;5;124m\"\u001b[39m \u001b[38;5;241m+\u001b[39m \u001b[38;5;28mstr\u001b[39m(\u001b[38;5;28mround\u001b[39m(time\u001b[38;5;241m.\u001b[39mperf_counter() \u001b[38;5;241m-\u001b[39m t1, \u001b[38;5;241m1\u001b[39m)))\n\u001b[1;32m     47\u001b[0m cm \u001b[38;5;241m=\u001b[39m df\u001b[38;5;241m.\u001b[39mcorr()\n",
      "File \u001b[0;32m~/.local/lib/python3.10/site-packages/pandas/core/indexing.py:818\u001b[0m, in \u001b[0;36m_LocationIndexer.__setitem__\u001b[0;34m(self, key, value)\u001b[0m\n\u001b[1;32m    815\u001b[0m \u001b[38;5;28mself\u001b[39m\u001b[38;5;241m.\u001b[39m_has_valid_setitem_indexer(key)\n\u001b[1;32m    817\u001b[0m iloc \u001b[38;5;241m=\u001b[39m \u001b[38;5;28mself\u001b[39m \u001b[38;5;28;01mif\u001b[39;00m \u001b[38;5;28mself\u001b[39m\u001b[38;5;241m.\u001b[39mname \u001b[38;5;241m==\u001b[39m \u001b[38;5;124m\"\u001b[39m\u001b[38;5;124miloc\u001b[39m\u001b[38;5;124m\"\u001b[39m \u001b[38;5;28;01melse\u001b[39;00m \u001b[38;5;28mself\u001b[39m\u001b[38;5;241m.\u001b[39mobj\u001b[38;5;241m.\u001b[39miloc\n\u001b[0;32m--> 818\u001b[0m \u001b[43miloc\u001b[49m\u001b[38;5;241;43m.\u001b[39;49m\u001b[43m_setitem_with_indexer\u001b[49m\u001b[43m(\u001b[49m\u001b[43mindexer\u001b[49m\u001b[43m,\u001b[49m\u001b[43m \u001b[49m\u001b[43mvalue\u001b[49m\u001b[43m,\u001b[49m\u001b[43m \u001b[49m\u001b[38;5;28;43mself\u001b[39;49m\u001b[38;5;241;43m.\u001b[39;49m\u001b[43mname\u001b[49m\u001b[43m)\u001b[49m\n",
      "File \u001b[0;32m~/.local/lib/python3.10/site-packages/pandas/core/indexing.py:1785\u001b[0m, in \u001b[0;36m_iLocIndexer._setitem_with_indexer\u001b[0;34m(self, indexer, value, name)\u001b[0m\n\u001b[1;32m   1782\u001b[0m     indexer, missing \u001b[38;5;241m=\u001b[39m convert_missing_indexer(indexer)\n\u001b[1;32m   1784\u001b[0m     \u001b[38;5;28;01mif\u001b[39;00m missing:\n\u001b[0;32m-> 1785\u001b[0m         \u001b[38;5;28;43mself\u001b[39;49m\u001b[38;5;241;43m.\u001b[39;49m\u001b[43m_setitem_with_indexer_missing\u001b[49m\u001b[43m(\u001b[49m\u001b[43mindexer\u001b[49m\u001b[43m,\u001b[49m\u001b[43m \u001b[49m\u001b[43mvalue\u001b[49m\u001b[43m)\u001b[49m\n\u001b[1;32m   1786\u001b[0m         \u001b[38;5;28;01mreturn\u001b[39;00m\n\u001b[1;32m   1788\u001b[0m \u001b[38;5;28;01mif\u001b[39;00m name \u001b[38;5;241m==\u001b[39m \u001b[38;5;124m\"\u001b[39m\u001b[38;5;124mloc\u001b[39m\u001b[38;5;124m\"\u001b[39m:\n\u001b[1;32m   1789\u001b[0m     \u001b[38;5;66;03m# must come after setting of missing\u001b[39;00m\n",
      "File \u001b[0;32m~/.local/lib/python3.10/site-packages/pandas/core/indexing.py:2182\u001b[0m, in \u001b[0;36m_iLocIndexer._setitem_with_indexer_missing\u001b[0;34m(self, indexer, value)\u001b[0m\n\u001b[1;32m   2180\u001b[0m     \u001b[38;5;28mself\u001b[39m\u001b[38;5;241m.\u001b[39mobj\u001b[38;5;241m.\u001b[39m_mgr \u001b[38;5;241m=\u001b[39m df\u001b[38;5;241m.\u001b[39m_mgr\n\u001b[1;32m   2181\u001b[0m \u001b[38;5;28;01melse\u001b[39;00m:\n\u001b[0;32m-> 2182\u001b[0m     \u001b[38;5;28mself\u001b[39m\u001b[38;5;241m.\u001b[39mobj\u001b[38;5;241m.\u001b[39m_mgr \u001b[38;5;241m=\u001b[39m \u001b[38;5;28;43mself\u001b[39;49m\u001b[38;5;241;43m.\u001b[39;49m\u001b[43mobj\u001b[49m\u001b[38;5;241;43m.\u001b[39;49m\u001b[43m_append\u001b[49m\u001b[43m(\u001b[49m\u001b[43mvalue\u001b[49m\u001b[43m)\u001b[49m\u001b[38;5;241m.\u001b[39m_mgr\n\u001b[1;32m   2183\u001b[0m \u001b[38;5;28mself\u001b[39m\u001b[38;5;241m.\u001b[39mobj\u001b[38;5;241m.\u001b[39m_maybe_update_cacher(clear\u001b[38;5;241m=\u001b[39m\u001b[38;5;28;01mTrue\u001b[39;00m)\n",
      "File \u001b[0;32m~/.local/lib/python3.10/site-packages/pandas/core/frame.py:9805\u001b[0m, in \u001b[0;36mDataFrame._append\u001b[0;34m(self, other, ignore_index, verify_integrity, sort)\u001b[0m\n\u001b[1;32m   9802\u001b[0m \u001b[38;5;28;01melse\u001b[39;00m:\n\u001b[1;32m   9803\u001b[0m     to_concat \u001b[38;5;241m=\u001b[39m [\u001b[38;5;28mself\u001b[39m, other]\n\u001b[0;32m-> 9805\u001b[0m result \u001b[38;5;241m=\u001b[39m \u001b[43mconcat\u001b[49m\u001b[43m(\u001b[49m\n\u001b[1;32m   9806\u001b[0m \u001b[43m    \u001b[49m\u001b[43mto_concat\u001b[49m\u001b[43m,\u001b[49m\n\u001b[1;32m   9807\u001b[0m \u001b[43m    \u001b[49m\u001b[43mignore_index\u001b[49m\u001b[38;5;241;43m=\u001b[39;49m\u001b[43mignore_index\u001b[49m\u001b[43m,\u001b[49m\n\u001b[1;32m   9808\u001b[0m \u001b[43m    \u001b[49m\u001b[43mverify_integrity\u001b[49m\u001b[38;5;241;43m=\u001b[39;49m\u001b[43mverify_integrity\u001b[49m\u001b[43m,\u001b[49m\n\u001b[1;32m   9809\u001b[0m \u001b[43m    \u001b[49m\u001b[43msort\u001b[49m\u001b[38;5;241;43m=\u001b[39;49m\u001b[43msort\u001b[49m\u001b[43m,\u001b[49m\n\u001b[1;32m   9810\u001b[0m \u001b[43m\u001b[49m\u001b[43m)\u001b[49m\n\u001b[1;32m   9811\u001b[0m \u001b[38;5;28;01mreturn\u001b[39;00m result\u001b[38;5;241m.\u001b[39m__finalize__(\u001b[38;5;28mself\u001b[39m, method\u001b[38;5;241m=\u001b[39m\u001b[38;5;124m\"\u001b[39m\u001b[38;5;124mappend\u001b[39m\u001b[38;5;124m\"\u001b[39m)\n",
      "File \u001b[0;32m~/.local/lib/python3.10/site-packages/pandas/util/_decorators.py:331\u001b[0m, in \u001b[0;36mdeprecate_nonkeyword_arguments.<locals>.decorate.<locals>.wrapper\u001b[0;34m(*args, **kwargs)\u001b[0m\n\u001b[1;32m    325\u001b[0m \u001b[38;5;28;01mif\u001b[39;00m \u001b[38;5;28mlen\u001b[39m(args) \u001b[38;5;241m>\u001b[39m num_allow_args:\n\u001b[1;32m    326\u001b[0m     warnings\u001b[38;5;241m.\u001b[39mwarn(\n\u001b[1;32m    327\u001b[0m         msg\u001b[38;5;241m.\u001b[39mformat(arguments\u001b[38;5;241m=\u001b[39m_format_argument_list(allow_args)),\n\u001b[1;32m    328\u001b[0m         \u001b[38;5;167;01mFutureWarning\u001b[39;00m,\n\u001b[1;32m    329\u001b[0m         stacklevel\u001b[38;5;241m=\u001b[39mfind_stack_level(),\n\u001b[1;32m    330\u001b[0m     )\n\u001b[0;32m--> 331\u001b[0m \u001b[38;5;28;01mreturn\u001b[39;00m \u001b[43mfunc\u001b[49m\u001b[43m(\u001b[49m\u001b[38;5;241;43m*\u001b[39;49m\u001b[43margs\u001b[49m\u001b[43m,\u001b[49m\u001b[43m \u001b[49m\u001b[38;5;241;43m*\u001b[39;49m\u001b[38;5;241;43m*\u001b[39;49m\u001b[43mkwargs\u001b[49m\u001b[43m)\u001b[49m\n",
      "File \u001b[0;32m~/.local/lib/python3.10/site-packages/pandas/core/reshape/concat.py:381\u001b[0m, in \u001b[0;36mconcat\u001b[0;34m(objs, axis, join, ignore_index, keys, levels, names, verify_integrity, sort, copy)\u001b[0m\n\u001b[1;32m    159\u001b[0m \u001b[38;5;124;03m\"\"\"\u001b[39;00m\n\u001b[1;32m    160\u001b[0m \u001b[38;5;124;03mConcatenate pandas objects along a particular axis.\u001b[39;00m\n\u001b[1;32m    161\u001b[0m \n\u001b[0;32m   (...)\u001b[0m\n\u001b[1;32m    366\u001b[0m \u001b[38;5;124;03m1   3   4\u001b[39;00m\n\u001b[1;32m    367\u001b[0m \u001b[38;5;124;03m\"\"\"\u001b[39;00m\n\u001b[1;32m    368\u001b[0m op \u001b[38;5;241m=\u001b[39m _Concatenator(\n\u001b[1;32m    369\u001b[0m     objs,\n\u001b[1;32m    370\u001b[0m     axis\u001b[38;5;241m=\u001b[39maxis,\n\u001b[0;32m   (...)\u001b[0m\n\u001b[1;32m    378\u001b[0m     sort\u001b[38;5;241m=\u001b[39msort,\n\u001b[1;32m    379\u001b[0m )\n\u001b[0;32m--> 381\u001b[0m \u001b[38;5;28;01mreturn\u001b[39;00m \u001b[43mop\u001b[49m\u001b[38;5;241;43m.\u001b[39;49m\u001b[43mget_result\u001b[49m\u001b[43m(\u001b[49m\u001b[43m)\u001b[49m\n",
      "File \u001b[0;32m~/.local/lib/python3.10/site-packages/pandas/core/reshape/concat.py:616\u001b[0m, in \u001b[0;36m_Concatenator.get_result\u001b[0;34m(self)\u001b[0m\n\u001b[1;32m    612\u001b[0m             indexers[ax] \u001b[38;5;241m=\u001b[39m obj_labels\u001b[38;5;241m.\u001b[39mget_indexer(new_labels)\n\u001b[1;32m    614\u001b[0m     mgrs_indexers\u001b[38;5;241m.\u001b[39mappend((obj\u001b[38;5;241m.\u001b[39m_mgr, indexers))\n\u001b[0;32m--> 616\u001b[0m new_data \u001b[38;5;241m=\u001b[39m \u001b[43mconcatenate_managers\u001b[49m\u001b[43m(\u001b[49m\n\u001b[1;32m    617\u001b[0m \u001b[43m    \u001b[49m\u001b[43mmgrs_indexers\u001b[49m\u001b[43m,\u001b[49m\u001b[43m \u001b[49m\u001b[38;5;28;43mself\u001b[39;49m\u001b[38;5;241;43m.\u001b[39;49m\u001b[43mnew_axes\u001b[49m\u001b[43m,\u001b[49m\u001b[43m \u001b[49m\u001b[43mconcat_axis\u001b[49m\u001b[38;5;241;43m=\u001b[39;49m\u001b[38;5;28;43mself\u001b[39;49m\u001b[38;5;241;43m.\u001b[39;49m\u001b[43mbm_axis\u001b[49m\u001b[43m,\u001b[49m\u001b[43m \u001b[49m\u001b[43mcopy\u001b[49m\u001b[38;5;241;43m=\u001b[39;49m\u001b[38;5;28;43mself\u001b[39;49m\u001b[38;5;241;43m.\u001b[39;49m\u001b[43mcopy\u001b[49m\n\u001b[1;32m    618\u001b[0m \u001b[43m\u001b[49m\u001b[43m)\u001b[49m\n\u001b[1;32m    619\u001b[0m \u001b[38;5;28;01mif\u001b[39;00m \u001b[38;5;129;01mnot\u001b[39;00m \u001b[38;5;28mself\u001b[39m\u001b[38;5;241m.\u001b[39mcopy:\n\u001b[1;32m    620\u001b[0m     new_data\u001b[38;5;241m.\u001b[39m_consolidate_inplace()\n",
      "File \u001b[0;32m~/.local/lib/python3.10/site-packages/pandas/core/internals/concat.py:199\u001b[0m, in \u001b[0;36mconcatenate_managers\u001b[0;34m(mgrs_indexers, axes, concat_axis, copy)\u001b[0m\n\u001b[1;32m    195\u001b[0m     \u001b[38;5;28;01mreturn\u001b[39;00m _concatenate_array_managers(mgrs_indexers, axes, concat_axis, copy)\n\u001b[1;32m    197\u001b[0m mgrs_indexers \u001b[38;5;241m=\u001b[39m _maybe_reindex_columns_na_proxy(axes, mgrs_indexers)\n\u001b[0;32m--> 199\u001b[0m concat_plans \u001b[38;5;241m=\u001b[39m [\n\u001b[1;32m    200\u001b[0m     _get_mgr_concatenation_plan(mgr, indexers) \u001b[38;5;28;01mfor\u001b[39;00m mgr, indexers \u001b[38;5;129;01min\u001b[39;00m mgrs_indexers\n\u001b[1;32m    201\u001b[0m ]\n\u001b[1;32m    202\u001b[0m concat_plan \u001b[38;5;241m=\u001b[39m _combine_concat_plans(concat_plans, concat_axis)\n\u001b[1;32m    203\u001b[0m blocks \u001b[38;5;241m=\u001b[39m []\n",
      "File \u001b[0;32m~/.local/lib/python3.10/site-packages/pandas/core/internals/concat.py:199\u001b[0m, in \u001b[0;36m<listcomp>\u001b[0;34m(.0)\u001b[0m\n\u001b[1;32m    195\u001b[0m     \u001b[38;5;28;01mreturn\u001b[39;00m _concatenate_array_managers(mgrs_indexers, axes, concat_axis, copy)\n\u001b[1;32m    197\u001b[0m mgrs_indexers \u001b[38;5;241m=\u001b[39m _maybe_reindex_columns_na_proxy(axes, mgrs_indexers)\n\u001b[0;32m--> 199\u001b[0m concat_plans \u001b[38;5;241m=\u001b[39m [\n\u001b[1;32m    200\u001b[0m     _get_mgr_concatenation_plan(mgr, indexers) \u001b[38;5;28;01mfor\u001b[39;00m mgr, indexers \u001b[38;5;129;01min\u001b[39;00m mgrs_indexers\n\u001b[1;32m    201\u001b[0m ]\n\u001b[1;32m    202\u001b[0m concat_plan \u001b[38;5;241m=\u001b[39m _combine_concat_plans(concat_plans, concat_axis)\n\u001b[1;32m    203\u001b[0m blocks \u001b[38;5;241m=\u001b[39m []\n",
      "\u001b[0;31mKeyboardInterrupt\u001b[0m: "
     ]
    }
   ],
   "source": [
    "# correlation table\n",
    "\n",
    "corr_df = pd.DataFrame(columns=['n','N','FP & SC', 'FP & Rec', 'FP & NoC', 'FP & Ord', 'SC & Noc', 'SC & Ord', 'Rec & NoC', 'Rec & Ord', 'Noc & Ord'])\n",
    "\n",
    "# длина подстановки n\n",
    "# длина выборки N\n",
    "n_N_values = [(10, 2**10), (10, 2**12), (10, 2**14), (10, 2**16), (10, 2**18),\n",
    "              (25, 2**10), (25, 2**12), (25, 2**14), (25, 2**16), (25, 2**18),\n",
    "              (50, 2**10), (50, 2**12), (50, 2**14), (50, 2**16), (50, 2**18),\n",
    "              (100, 2**10), (100, 2**12), (100, 2**14), (100, 2**16), (100, 2**18),\n",
    "              (200, 2**10), (200, 2**14), (200, 2**16), (200, 2**18),\n",
    "              (500, 2**10), (500, 2**14), (500, 2**16), (500, 2**18),\n",
    "              (1000, 2**10), (1000, 2**14), (1000, 2**16), \n",
    "             ]\n",
    "\n",
    "t1 = time.perf_counter()\n",
    "\n",
    "for p in n_N_values[5:9:1]:\n",
    "    \n",
    "    n, N = p\n",
    "    t2 = time.perf_counter()\n",
    "    \n",
    "    # 'Fixed points','Shortest cycle','Records', 'Number of cycles', 'Order'\n",
    "    df = pd.DataFrame(columns=['FP','SC','Rec', 'NoC', 'Ord'])\n",
    "\n",
    "    num_of_cycles = 0\n",
    "    num_of_fixed_points = 0\n",
    "    length_of_shortes_cycle = 0\n",
    "    order = 1\n",
    "    \n",
    "    for i in tqdm(range(N)):\n",
    "        a = Permutation(np.random.permutation(n))\n",
    "        num_of_cycles = a.cycles\n",
    "        if 1 in a.cycle_structure.keys():\n",
    "            num_of_fixed_points = a.cycle_structure[1]\n",
    "        else:\n",
    "            num_of_fixed_points = 0\n",
    "        length_of_shortes_cycle = min(a.cycle_structure.keys())\n",
    "        num_of_records = count_records(a)\n",
    "        order = 1\n",
    "        for x in list(a.cycle_structure.keys()):\n",
    "            order = np.lcm(order, x)\n",
    "\n",
    "        df.loc[len(df)] = [num_of_fixed_points, length_of_shortes_cycle, num_of_records, num_of_cycles, order]\n",
    "            \n",
    "    print(\"n=\"+ str(n), \"N=\" + str(N), \" - Done,\" + \" Time: \" + str(round(time.perf_counter() - t1, 1)))\n",
    "    cm = df.corr()\n",
    "    corr_df.loc[len(corr_df)] = [n, N, cm['FP']['SC'], cm['FP']['Rec'], cm['FP']['NoC'], cm['FP']['Ord'], \n",
    "                                 cm['SC']['NoC'], cm['SC']['Ord'], cm['Rec']['NoC'], cm['Rec']['Ord'], cm['NoC']['Ord']]\n",
    "\n",
    "corr_df = corr_df.round(3)\n",
    "corr_df = corr_df.astype({\"n\": int, \"N\": int})\n",
    "# corr_df.to_csv(\"./corr.csv\", index=None)  \n",
    "corr_df.to_csv(\"./corr.csv\", index=None, mode='a', header=None)    # n=10 - done, n = 25"
   ]
  },
  {
   "cell_type": "code",
   "execution_count": 186,
   "id": "f66ea627",
   "metadata": {},
   "outputs": [],
   "source": [
    "# plt.figure(figsize=(10, 5))\n",
    "# sns.heatmap(df.corr(), annot=True)"
   ]
  },
  {
   "cell_type": "code",
   "execution_count": null,
   "id": "49c0d64a",
   "metadata": {},
   "outputs": [],
   "source": []
  },
  {
   "cell_type": "code",
   "execution_count": null,
   "id": "c95b6f2c",
   "metadata": {},
   "outputs": [],
   "source": []
  },
  {
   "cell_type": "code",
   "execution_count": null,
   "id": "14c8ec67",
   "metadata": {},
   "outputs": [],
   "source": []
  },
  {
   "cell_type": "code",
   "execution_count": null,
   "id": "1de588e2",
   "metadata": {},
   "outputs": [],
   "source": []
  },
  {
   "cell_type": "code",
   "execution_count": null,
   "id": "b5e92958",
   "metadata": {},
   "outputs": [],
   "source": []
  },
  {
   "cell_type": "code",
   "execution_count": null,
   "id": "fe4f4183",
   "metadata": {},
   "outputs": [],
   "source": []
  },
  {
   "cell_type": "code",
   "execution_count": null,
   "id": "cdac10b9",
   "metadata": {},
   "outputs": [],
   "source": []
  },
  {
   "cell_type": "code",
   "execution_count": null,
   "id": "d15e0ed0",
   "metadata": {},
   "outputs": [],
   "source": []
  },
  {
   "cell_type": "code",
   "execution_count": null,
   "id": "8337a510",
   "metadata": {},
   "outputs": [],
   "source": []
  }
 ],
 "metadata": {
  "kernelspec": {
   "display_name": "Python 3 (ipykernel)",
   "language": "python",
   "name": "python3"
  },
  "language_info": {
   "codemirror_mode": {
    "name": "ipython",
    "version": 3
   },
   "file_extension": ".py",
   "mimetype": "text/x-python",
   "name": "python",
   "nbconvert_exporter": "python",
   "pygments_lexer": "ipython3",
   "version": "3.10.6"
  }
 },
 "nbformat": 4,
 "nbformat_minor": 5
}
