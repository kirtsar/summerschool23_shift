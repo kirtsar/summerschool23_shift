{
 "cells": [
  {
   "cell_type": "code",
   "execution_count": 1,
   "id": "1ee4bf94",
   "metadata": {},
   "outputs": [],
   "source": [
    "from sympy.combinatorics import Permutation, PermutationGroup\n",
    "import numpy as np\n",
    "import math\n",
    "import sympy\n",
    "import sympy.functions.combinatorial.numbers as math_num\n",
    "from scipy.stats import chisquare\n",
    "from scipy.stats import chi2\n",
    "import pandas as pd\n",
    "import seaborn as sns\n",
    "import matplotlib.pyplot as plt\n",
    "import time\n",
    "from tqdm import tqdm\n"
   ]
  },
  {
   "cell_type": "code",
   "execution_count": 2,
   "id": "4f5c561b",
   "metadata": {},
   "outputs": [],
   "source": [
    "def conv(x, y):\n",
    "    r = max(len(x) - 1, len(y) - 1)\n",
    "    last_sum1 = 0\n",
    "    last_sum2 = 0\n",
    "    while ((last_sum1 < 5) | (last_sum2 < 5)) &  (r >= 0):\n",
    "        if (r <= len(x) - 1):\n",
    "            last_sum1 += x[r]\n",
    "        if (r <= len(y) - 1):\n",
    "            last_sum2 += y[r]\n",
    "        r = r - 1\n",
    "    r += 1\n",
    "    new_x = [0 for i in range(r+1)]\n",
    "    new_y = [0 for i in range(r+1)]\n",
    "    for i in range(r):\n",
    "        new_x[i] = x[i]\n",
    "        new_y[i] = y[i]\n",
    "    new_x[r] = last_sum1   \n",
    "    new_y[r] = last_sum2\n",
    "    # new_x, new_y = np.trim_zeros(new_x), np.trim_zeros(new_y)\n",
    "    while 0 in new_x: new_x.remove(0)\n",
    "    while 0 in new_y: new_y.remove(0)\n",
    "    #while(new_y[0] == 0):\n",
    "    #    new_y = new_y[1:]\n",
    "    return (new_x, new_y)"
   ]
  },
  {
   "cell_type": "code",
   "execution_count": 3,
   "id": "98c375db",
   "metadata": {},
   "outputs": [],
   "source": [
    "def chi(O, E):\n",
    "    print(O)\n",
    "    print(E)\n",
    "    O,E = conv(O, E)\n",
    "    l = len(O)\n",
    "    while 0 in O: O.remove(0)\n",
    "    while 0 in E: E.remove(0)\n",
    "    print(O)\n",
    "    print(E)\n",
    "    r = 0\n",
    "    for i in range(len(O)):\n",
    "        r += (O[i] - E[i])**2/E[i]\n",
    "    return (r, l)"
   ]
  },
  {
   "cell_type": "markdown",
   "id": "5a11ed77",
   "metadata": {},
   "source": [
    "## Permutation"
   ]
  },
  {
   "cell_type": "code",
   "execution_count": 4,
   "id": "cde77c54",
   "metadata": {},
   "outputs": [
    {
     "name": "stdout",
     "output_type": "stream",
     "text": [
      "[0, 199, 711, 1148, 1028, 651, 244, 94, 18, 3, 0, 0, 0, 0, 0, 0, 0, 0, 0, 0, 0]\n",
      "[1474, 1520, 800, 232, 56, 9, 4, 0, 1, 0, 0, 0, 0, 0, 0, 0, 0, 0, 0, 0, 0]\n",
      "[0, 2622, 593, 241, 146, 95, 60, 47, 38, 30, 25, 0, 0, 0, 0, 0, 0, 0, 0, 0, 199]\n",
      "(0 8 16 1 2 9 13)(3 11 17 15 19 10 7 12 5 14)(4 18)\n",
      "[8, 2, 9, 11, 18, 14, 6, 12, 16, 13, 7, 17, 5, 0, 3, 19, 1, 15, 4, 10]\n",
      "100\n",
      "True\n",
      "dict_keys([7, 10, 2, 1])\n"
     ]
    }
   ],
   "source": [
    "n = 20  # длина подстановки\n",
    "N = 2 ** 12 # размер выборки подстановок\n",
    "\n",
    "num_of_cycles = [0 for k in range(n+1)]\n",
    "num_of_fixed_points = [0 for k in range(n+1)]\n",
    "num_shortest_cycle = [0 for k in range(n+1)]\n",
    "num_of_orders = {}\n",
    "\n",
    "a = Permutation(np.random.permutation(n))\n",
    "\n",
    "for i in range(N):\n",
    "    a = Permutation(np.random.permutation(n))\n",
    "    cycle_num = a.cycles\n",
    "    num_of_cycles[a.cycles] += 1\n",
    "    if 1 in a.cycle_structure.keys():\n",
    "        num_of_fixed_points[a.cycle_structure[1]]  += 1\n",
    "    else:\n",
    "        num_of_fixed_points[0] += 1\n",
    "    num_shortest_cycle[min(a.cycle_structure.keys())] += 1 \n",
    "    order = 1\n",
    "    for x in list(a.cycle_structure.keys()):\n",
    "        order = np.lcm(order, x)\n",
    "    if order in num_of_orders:\n",
    "        num_of_orders[order] += 1\n",
    "    else:\n",
    "        num_of_orders[order] = 1\n",
    "    \n",
    "    \n",
    "print(num_of_cycles)\n",
    "print(num_of_fixed_points)\n",
    "print(num_shortest_cycle)\n",
    "print(num_of_orders)\n",
    "\n",
    "#print(a)\n",
    "#print(a.list())\n",
    "#print(a.inversions())\n",
    "#print(a.is_even)\n"
   ]
  },
  {
   "cell_type": "markdown",
   "id": "a68a4354",
   "metadata": {},
   "source": [
    "## Comparison of statistical distributions"
   ]
  },
  {
   "cell_type": "code",
   "execution_count": 5,
   "id": "cf174268",
   "metadata": {},
   "outputs": [
    {
     "name": "stdout",
     "output_type": "stream",
     "text": [
      "[1474, 1520, 800, 232, 56, 9, 4, 0, 1, 0, 0, 0, 0, 0, 0, 0, 0, 0, 0, 0, 0]\n",
      "[1506.8341910382278, 1506.8341910382278, 753.4170955191139, 251.1390318397045, 62.78475795992661, 12.55695159198369, 2.0928252653349655, 0.2989750378956728, 0.03737187975327305, 0.004152431060132413, 0.0004152431342907533, 3.7749347567101836e-05, 3.145802528518578e-06, 2.419684959367499e-07, 1.729278625222188e-08, 1.1485020303362455e-09, 7.341277182547023e-11, 3.8385763045997505e-12, 3.198813587166459e-13, 0, 1.68358609850866e-15]\n",
      "[1474, 1520, 800, 232, 56, 14]\n",
      "[1506.8341910382278, 1506.8341910382278, 753.4170955191139, 251.1390318397045, 62.78475795992661, 14.9907326047995]\n",
      "Квантиль степени 5 = 11.070497693516351\n",
      "Статистика для k неподвижных точек = 5.96789331282700\n",
      "p-value = 0.3093555878301215\n"
     ]
    }
   ],
   "source": [
    "# Неподвижные точки\n",
    "E_prob_of_fixed_points = [((1 / math.factorial(k)) * (sympy.subfactorial(n - k) / math.factorial(n - k))) for k in range(n+1)]\n",
    "E_num_of_fixed_points = [ x*N  for x in E_prob_of_fixed_points]\n",
    "(num_of_fixed_points_stat, points_array_len) = chi(num_of_fixed_points, E_num_of_fixed_points)\n",
    "\n",
    "# print(E_num_of_fixed_points)\n",
    "\n",
    "points_quantile = chi2.ppf(1-0.05, df=points_array_len-1)\n",
    "p_value = chi2.sf(float(num_of_fixed_points_stat), int(points_array_len-1))\n",
    "\n",
    "print(\"Квантиль степени \" + str(points_array_len - 1) + \" = \" + str(points_quantile))\n",
    "print(\"Статистика для k неподвижных точек = \" + str(num_of_fixed_points_stat))\n",
    "print(\"p-value = \" + str(p_value))"
   ]
  },
  {
   "cell_type": "code",
   "execution_count": 6,
   "id": "8522737c",
   "metadata": {},
   "outputs": [
    {
     "name": "stdout",
     "output_type": "stream",
     "text": [
      "[0, 199, 711, 1148, 1028, 651, 244, 94, 18, 3, 0, 0, 0, 0, 0, 0, 0, 0, 0, 0, 0]\n",
      "[0, 204.800000000000, 726.577081783026, 1125.66204732999, 1027.18294359335, 625.258265172022, 271.780860308024, 87.9857303966310, 21.8085631613971, 4.21546179333437, 0.642998663357349, 0.0779174551850919, 0.00751759369541556, 0.000576211571214511, 3.48383353968304e-5, 1.63971504359511e-6, 5.87856848879777e-8, 1.54982518298215e-9, 2.83095002464232e-11, 3.19881358716646e-13, 1.68358609850866e-15]\n",
      "[199, 711, 1148, 1028, 651, 244, 94, 21]\n",
      "[204.800000000000, 726.577081783026, 1125.66204732999, 1027.18294359335, 625.258265172022, 271.780860308024, 87.9857303966310, 26.7530714169552]\n",
      "Квантиль степени 7 = 14.067140449340169\n",
      "Статистика для ровно k циклов = 6.48989251428110\n",
      "p-value = 0.48384661069790114\n"
     ]
    }
   ],
   "source": [
    "# Длины циклов\n",
    "E_prob_of_cycles = [((1 / math.factorial(n)) * math_num.stirling(n, k, kind=1)) for k in range(len(num_of_cycles))]\n",
    "E_num_of_cycles = [ x*N  for x in E_prob_of_cycles]\n",
    "(num_of_cycle_stat, cycle_array_len) = chi(num_of_cycles, E_num_of_cycles)\n",
    "\n",
    "#print(E_num_of_cycles)\n",
    "\n",
    "cycle_quantile = chi2.ppf(1-0.05, df=cycle_array_len-1)\n",
    "p_value = chi2.sf(float(num_of_cycle_stat), int(cycle_array_len-1))\n",
    "\n",
    "print(\"Квантиль степени \" + str(cycle_array_len - 1) + \" = \" + str(cycle_quantile))\n",
    "print(\"Статистика для ровно k циклов = \" + str(num_of_cycle_stat))\n",
    "print(\"p-value = \" + str(p_value))"
   ]
  },
  {
   "cell_type": "code",
   "execution_count": 7,
   "id": "e594e19b",
   "metadata": {},
   "outputs": [],
   "source": [
    "# Кратчайший цикл имеет длину k\n",
    "\n",
    "def expindex(x, M):\n",
    "    res = x\n",
    "    for i in range(2, M + 1):\n",
    "        res += (x**i) / i\n",
    "    return -res\n",
    "\n",
    "def nthcoeff(f, x, n):\n",
    "    res = sympy.diff(f, x, n)\n",
    "    return res.subs(x, 0) / math.factorial(n)\n",
    "\n",
    "def get_polynom_for_cycle_length(M, n): \n",
    "    x = sympy.Symbol('x')\n",
    "    f = 1 - sympy.exp(-x) if  M == 0 else sympy.exp(expindex(x, M)) - sympy.exp(expindex(x, M + 1))\n",
    "    return nthcoeff(f / (1 - x), x, n)\n",
    "\n",
    "def gen_prob_of_shortest_cycles(n):\n",
    "    t = time.perf_counter()\n",
    "    short_cycle_length_exp = [0] * n\n",
    "    for i in tqdm(range(math.floor(n / 2) + 1)):\n",
    "        short_cycle_length_exp[i] = get_polynom_for_cycle_length(i, n) \n",
    "    short_cycle_length_exp[n-1] = get_polynom_for_cycle_length(n-1, n)\n",
    "    exp = np.array(np.array([float(i) for i in short_cycle_length_exp]))\n",
    "    # exp = np.trim_zeros(np.sort(exp))\n",
    "    return exp\n",
    "\n",
    "def gen_prob_of_shortest_cycles2(n):\n",
    "    exp = [0] * n\n",
    "    for i in range(1, math.floor(n / 2)):\n",
    "        exp[i] = math.exp(-sympy.harmonic(i)) - math.exp(-sympy.harmonic(i+1))\n",
    "    exp[0] = 1 - math.exp(-1)\n",
    "    exp[n-1] = 1 / n\n",
    "    return exp\n"
   ]
  },
  {
   "cell_type": "code",
   "execution_count": 25,
   "id": "4e2d64dc",
   "metadata": {},
   "outputs": [
    {
     "name": "stderr",
     "output_type": "stream",
     "text": [
      "  9%|████                                        | 1/11 [00:33<05:37, 33.75s/it]\n"
     ]
    },
    {
     "ename": "KeyboardInterrupt",
     "evalue": "",
     "output_type": "error",
     "traceback": [
      "\u001b[0;31m---------------------------------------------------------------------------\u001b[0m",
      "\u001b[0;31mKeyboardInterrupt\u001b[0m                         Traceback (most recent call last)",
      "Cell \u001b[0;32mIn [25], line 3\u001b[0m\n\u001b[1;32m      1\u001b[0m \u001b[38;5;66;03m# Кратчайший цикл имеет длину k\u001b[39;00m\n\u001b[0;32m----> 3\u001b[0m E_prob_of_shortest_cycle \u001b[38;5;241m=\u001b[39m \u001b[43mgen_prob_of_shortest_cycles\u001b[49m\u001b[43m(\u001b[49m\u001b[43mn\u001b[49m\u001b[43m)\u001b[49m\n\u001b[1;32m      4\u001b[0m E_num_of_shortest_cycle \u001b[38;5;241m=\u001b[39m [ x\u001b[38;5;241m*\u001b[39mN  \u001b[38;5;28;01mfor\u001b[39;00m x \u001b[38;5;129;01min\u001b[39;00m E_prob_of_shortest_cycle]\n\u001b[1;32m      6\u001b[0m num_shortest_cycle \u001b[38;5;241m=\u001b[39m gen_prob_of_shortest_cycles2(n)\n",
      "Cell \u001b[0;32mIn [24], line 22\u001b[0m, in \u001b[0;36mgen_prob_of_shortest_cycles\u001b[0;34m(n)\u001b[0m\n\u001b[1;32m     20\u001b[0m short_cycle_length_exp \u001b[38;5;241m=\u001b[39m [\u001b[38;5;241m0\u001b[39m] \u001b[38;5;241m*\u001b[39m n\n\u001b[1;32m     21\u001b[0m \u001b[38;5;28;01mfor\u001b[39;00m i \u001b[38;5;129;01min\u001b[39;00m tqdm(\u001b[38;5;28mrange\u001b[39m(math\u001b[38;5;241m.\u001b[39mfloor(n \u001b[38;5;241m/\u001b[39m \u001b[38;5;241m2\u001b[39m) \u001b[38;5;241m+\u001b[39m \u001b[38;5;241m1\u001b[39m)):\n\u001b[0;32m---> 22\u001b[0m     short_cycle_length_exp[i] \u001b[38;5;241m=\u001b[39m \u001b[43mget_polynom_for_cycle_length\u001b[49m\u001b[43m(\u001b[49m\u001b[43mi\u001b[49m\u001b[43m,\u001b[49m\u001b[43m \u001b[49m\u001b[43mn\u001b[49m\u001b[43m)\u001b[49m \n\u001b[1;32m     23\u001b[0m short_cycle_length_exp[n\u001b[38;5;241m-\u001b[39m\u001b[38;5;241m1\u001b[39m] \u001b[38;5;241m=\u001b[39m get_polynom_for_cycle_length(n\u001b[38;5;241m-\u001b[39m\u001b[38;5;241m1\u001b[39m, n)\n\u001b[1;32m     24\u001b[0m exp \u001b[38;5;241m=\u001b[39m np\u001b[38;5;241m.\u001b[39marray(np\u001b[38;5;241m.\u001b[39marray([\u001b[38;5;28mfloat\u001b[39m(i) \u001b[38;5;28;01mfor\u001b[39;00m i \u001b[38;5;129;01min\u001b[39;00m short_cycle_length_exp]))\n",
      "Cell \u001b[0;32mIn [24], line 16\u001b[0m, in \u001b[0;36mget_polynom_for_cycle_length\u001b[0;34m(M, n)\u001b[0m\n\u001b[1;32m     14\u001b[0m x \u001b[38;5;241m=\u001b[39m sympy\u001b[38;5;241m.\u001b[39mSymbol(\u001b[38;5;124m'\u001b[39m\u001b[38;5;124mx\u001b[39m\u001b[38;5;124m'\u001b[39m)\n\u001b[1;32m     15\u001b[0m f \u001b[38;5;241m=\u001b[39m \u001b[38;5;241m1\u001b[39m \u001b[38;5;241m-\u001b[39m sympy\u001b[38;5;241m.\u001b[39mexp(\u001b[38;5;241m-\u001b[39mx) \u001b[38;5;28;01mif\u001b[39;00m  M \u001b[38;5;241m==\u001b[39m \u001b[38;5;241m0\u001b[39m \u001b[38;5;28;01melse\u001b[39;00m sympy\u001b[38;5;241m.\u001b[39mexp(expindex(x, M)) \u001b[38;5;241m-\u001b[39m sympy\u001b[38;5;241m.\u001b[39mexp(expindex(x, M \u001b[38;5;241m+\u001b[39m \u001b[38;5;241m1\u001b[39m))\n\u001b[0;32m---> 16\u001b[0m \u001b[38;5;28;01mreturn\u001b[39;00m \u001b[43mnthcoeff\u001b[49m\u001b[43m(\u001b[49m\u001b[43mf\u001b[49m\u001b[43m \u001b[49m\u001b[38;5;241;43m/\u001b[39;49m\u001b[43m \u001b[49m\u001b[43m(\u001b[49m\u001b[38;5;241;43m1\u001b[39;49m\u001b[43m \u001b[49m\u001b[38;5;241;43m-\u001b[39;49m\u001b[43m \u001b[49m\u001b[43mx\u001b[49m\u001b[43m)\u001b[49m\u001b[43m,\u001b[49m\u001b[43m \u001b[49m\u001b[43mx\u001b[49m\u001b[43m,\u001b[49m\u001b[43m \u001b[49m\u001b[43mn\u001b[49m\u001b[43m)\u001b[49m\n",
      "Cell \u001b[0;32mIn [24], line 10\u001b[0m, in \u001b[0;36mnthcoeff\u001b[0;34m(f, x, n)\u001b[0m\n\u001b[1;32m      9\u001b[0m \u001b[38;5;28;01mdef\u001b[39;00m \u001b[38;5;21mnthcoeff\u001b[39m(f, x, n):\n\u001b[0;32m---> 10\u001b[0m     res \u001b[38;5;241m=\u001b[39m \u001b[43msympy\u001b[49m\u001b[38;5;241;43m.\u001b[39;49m\u001b[43mdiff\u001b[49m\u001b[43m(\u001b[49m\u001b[43mf\u001b[49m\u001b[43m,\u001b[49m\u001b[43m \u001b[49m\u001b[43mx\u001b[49m\u001b[43m,\u001b[49m\u001b[43m \u001b[49m\u001b[43mn\u001b[49m\u001b[43m)\u001b[49m\n\u001b[1;32m     11\u001b[0m     \u001b[38;5;28;01mreturn\u001b[39;00m res\u001b[38;5;241m.\u001b[39msubs(x, \u001b[38;5;241m0\u001b[39m) \u001b[38;5;241m/\u001b[39m math\u001b[38;5;241m.\u001b[39mfactorial(n)\n",
      "File \u001b[0;32m/usr/lib/python3/dist-packages/sympy/core/function.py:2491\u001b[0m, in \u001b[0;36mdiff\u001b[0;34m(f, *symbols, **kwargs)\u001b[0m\n\u001b[1;32m   2427\u001b[0m \u001b[38;5;124;03m\"\"\"\u001b[39;00m\n\u001b[1;32m   2428\u001b[0m \u001b[38;5;124;03mDifferentiate f with respect to symbols.\u001b[39;00m\n\u001b[1;32m   2429\u001b[0m \n\u001b[0;32m   (...)\u001b[0m\n\u001b[1;32m   2488\u001b[0m \n\u001b[1;32m   2489\u001b[0m \u001b[38;5;124;03m\"\"\"\u001b[39;00m\n\u001b[1;32m   2490\u001b[0m \u001b[38;5;28;01mif\u001b[39;00m \u001b[38;5;28mhasattr\u001b[39m(f, \u001b[38;5;124m'\u001b[39m\u001b[38;5;124mdiff\u001b[39m\u001b[38;5;124m'\u001b[39m):\n\u001b[0;32m-> 2491\u001b[0m     \u001b[38;5;28;01mreturn\u001b[39;00m \u001b[43mf\u001b[49m\u001b[38;5;241;43m.\u001b[39;49m\u001b[43mdiff\u001b[49m\u001b[43m(\u001b[49m\u001b[38;5;241;43m*\u001b[39;49m\u001b[43msymbols\u001b[49m\u001b[43m,\u001b[49m\u001b[43m \u001b[49m\u001b[38;5;241;43m*\u001b[39;49m\u001b[38;5;241;43m*\u001b[39;49m\u001b[43mkwargs\u001b[49m\u001b[43m)\u001b[49m\n\u001b[1;32m   2492\u001b[0m kwargs\u001b[38;5;241m.\u001b[39msetdefault(\u001b[38;5;124m'\u001b[39m\u001b[38;5;124mevaluate\u001b[39m\u001b[38;5;124m'\u001b[39m, \u001b[38;5;28;01mTrue\u001b[39;00m)\n\u001b[1;32m   2493\u001b[0m \u001b[38;5;28;01mreturn\u001b[39;00m _derivative_dispatch(f, \u001b[38;5;241m*\u001b[39msymbols, \u001b[38;5;241m*\u001b[39m\u001b[38;5;241m*\u001b[39mkwargs)\n",
      "File \u001b[0;32m/usr/lib/python3/dist-packages/sympy/core/expr.py:3526\u001b[0m, in \u001b[0;36mExpr.diff\u001b[0;34m(self, *symbols, **assumptions)\u001b[0m\n\u001b[1;32m   3524\u001b[0m \u001b[38;5;28;01mdef\u001b[39;00m \u001b[38;5;21mdiff\u001b[39m(\u001b[38;5;28mself\u001b[39m, \u001b[38;5;241m*\u001b[39msymbols, \u001b[38;5;241m*\u001b[39m\u001b[38;5;241m*\u001b[39massumptions):\n\u001b[1;32m   3525\u001b[0m     assumptions\u001b[38;5;241m.\u001b[39msetdefault(\u001b[38;5;124m\"\u001b[39m\u001b[38;5;124mevaluate\u001b[39m\u001b[38;5;124m\"\u001b[39m, \u001b[38;5;28;01mTrue\u001b[39;00m)\n\u001b[0;32m-> 3526\u001b[0m     \u001b[38;5;28;01mreturn\u001b[39;00m \u001b[43m_derivative_dispatch\u001b[49m\u001b[43m(\u001b[49m\u001b[38;5;28;43mself\u001b[39;49m\u001b[43m,\u001b[49m\u001b[43m \u001b[49m\u001b[38;5;241;43m*\u001b[39;49m\u001b[43msymbols\u001b[49m\u001b[43m,\u001b[49m\u001b[43m \u001b[49m\u001b[38;5;241;43m*\u001b[39;49m\u001b[38;5;241;43m*\u001b[39;49m\u001b[43massumptions\u001b[49m\u001b[43m)\u001b[49m\n",
      "File \u001b[0;32m/usr/lib/python3/dist-packages/sympy/core/function.py:1919\u001b[0m, in \u001b[0;36m_derivative_dispatch\u001b[0;34m(expr, *variables, **kwargs)\u001b[0m\n\u001b[1;32m   1917\u001b[0m     \u001b[38;5;28;01mfrom\u001b[39;00m \u001b[38;5;21;01msympy\u001b[39;00m\u001b[38;5;21;01m.\u001b[39;00m\u001b[38;5;21;01mtensor\u001b[39;00m\u001b[38;5;21;01m.\u001b[39;00m\u001b[38;5;21;01marray\u001b[39;00m\u001b[38;5;21;01m.\u001b[39;00m\u001b[38;5;21;01marray_derivatives\u001b[39;00m \u001b[38;5;28;01mimport\u001b[39;00m ArrayDerivative\n\u001b[1;32m   1918\u001b[0m     \u001b[38;5;28;01mreturn\u001b[39;00m ArrayDerivative(expr, \u001b[38;5;241m*\u001b[39mvariables, \u001b[38;5;241m*\u001b[39m\u001b[38;5;241m*\u001b[39mkwargs)\n\u001b[0;32m-> 1919\u001b[0m \u001b[38;5;28;01mreturn\u001b[39;00m \u001b[43mDerivative\u001b[49m\u001b[43m(\u001b[49m\u001b[43mexpr\u001b[49m\u001b[43m,\u001b[49m\u001b[43m \u001b[49m\u001b[38;5;241;43m*\u001b[39;49m\u001b[43mvariables\u001b[49m\u001b[43m,\u001b[49m\u001b[43m \u001b[49m\u001b[38;5;241;43m*\u001b[39;49m\u001b[38;5;241;43m*\u001b[39;49m\u001b[43mkwargs\u001b[49m\u001b[43m)\u001b[49m\n",
      "File \u001b[0;32m/usr/lib/python3/dist-packages/sympy/core/function.py:1446\u001b[0m, in \u001b[0;36mDerivative.__new__\u001b[0;34m(cls, expr, *variables, **kwargs)\u001b[0m\n\u001b[1;32m   1439\u001b[0m     \u001b[38;5;28;01mif\u001b[39;00m \u001b[38;5;129;01mnot\u001b[39;00m old_v\u001b[38;5;241m.\u001b[39mis_scalar \u001b[38;5;129;01mand\u001b[39;00m \u001b[38;5;129;01mnot\u001b[39;00m \u001b[38;5;28mhasattr\u001b[39m(\n\u001b[1;32m   1440\u001b[0m             old_v, \u001b[38;5;124m'\u001b[39m\u001b[38;5;124m_eval_derivative\u001b[39m\u001b[38;5;124m'\u001b[39m):\n\u001b[1;32m   1441\u001b[0m         \u001b[38;5;66;03m# special hack providing evaluation for classes\u001b[39;00m\n\u001b[1;32m   1442\u001b[0m         \u001b[38;5;66;03m# that have defined is_scalar=True but have no\u001b[39;00m\n\u001b[1;32m   1443\u001b[0m         \u001b[38;5;66;03m# _eval_derivative defined\u001b[39;00m\n\u001b[1;32m   1444\u001b[0m         expr \u001b[38;5;241m*\u001b[39m\u001b[38;5;241m=\u001b[39m old_v\u001b[38;5;241m.\u001b[39mdiff(old_v)\n\u001b[0;32m-> 1446\u001b[0m obj \u001b[38;5;241m=\u001b[39m \u001b[38;5;28;43mcls\u001b[39;49m\u001b[38;5;241;43m.\u001b[39;49m\u001b[43m_dispatch_eval_derivative_n_times\u001b[49m\u001b[43m(\u001b[49m\u001b[43mexpr\u001b[49m\u001b[43m,\u001b[49m\u001b[43m \u001b[49m\u001b[43mv\u001b[49m\u001b[43m,\u001b[49m\u001b[43m \u001b[49m\u001b[43mcount\u001b[49m\u001b[43m)\u001b[49m\n\u001b[1;32m   1447\u001b[0m \u001b[38;5;28;01mif\u001b[39;00m obj \u001b[38;5;129;01mis\u001b[39;00m \u001b[38;5;129;01mnot\u001b[39;00m \u001b[38;5;28;01mNone\u001b[39;00m \u001b[38;5;129;01mand\u001b[39;00m obj\u001b[38;5;241m.\u001b[39mis_zero:\n\u001b[1;32m   1448\u001b[0m     \u001b[38;5;28;01mreturn\u001b[39;00m obj\n",
      "File \u001b[0;32m/usr/lib/python3/dist-packages/sympy/core/function.py:1908\u001b[0m, in \u001b[0;36mDerivative._dispatch_eval_derivative_n_times\u001b[0;34m(cls, expr, v, count)\u001b[0m\n\u001b[1;32m   1902\u001b[0m \u001b[38;5;129m@classmethod\u001b[39m\n\u001b[1;32m   1903\u001b[0m \u001b[38;5;28;01mdef\u001b[39;00m \u001b[38;5;21m_dispatch_eval_derivative_n_times\u001b[39m(\u001b[38;5;28mcls\u001b[39m, expr, v, count):\n\u001b[1;32m   1904\u001b[0m     \u001b[38;5;66;03m# Evaluate the derivative `n` times.  If\u001b[39;00m\n\u001b[1;32m   1905\u001b[0m     \u001b[38;5;66;03m# `_eval_derivative_n_times` is not overridden by the current\u001b[39;00m\n\u001b[1;32m   1906\u001b[0m     \u001b[38;5;66;03m# object, the default in `Basic` will call a loop over\u001b[39;00m\n\u001b[1;32m   1907\u001b[0m     \u001b[38;5;66;03m# `_eval_derivative`:\u001b[39;00m\n\u001b[0;32m-> 1908\u001b[0m     \u001b[38;5;28;01mreturn\u001b[39;00m \u001b[43mexpr\u001b[49m\u001b[38;5;241;43m.\u001b[39;49m\u001b[43m_eval_derivative_n_times\u001b[49m\u001b[43m(\u001b[49m\u001b[43mv\u001b[49m\u001b[43m,\u001b[49m\u001b[43m \u001b[49m\u001b[43mcount\u001b[49m\u001b[43m)\u001b[49m\n",
      "File \u001b[0;32m/usr/lib/python3/dist-packages/sympy/core/cache.py:72\u001b[0m, in \u001b[0;36m__cacheit.<locals>.func_wrapper.<locals>.wrapper\u001b[0;34m(*args, **kwargs)\u001b[0m\n\u001b[1;32m     69\u001b[0m \u001b[38;5;129m@wraps\u001b[39m(func)\n\u001b[1;32m     70\u001b[0m \u001b[38;5;28;01mdef\u001b[39;00m \u001b[38;5;21mwrapper\u001b[39m(\u001b[38;5;241m*\u001b[39margs, \u001b[38;5;241m*\u001b[39m\u001b[38;5;241m*\u001b[39mkwargs):\n\u001b[1;32m     71\u001b[0m     \u001b[38;5;28;01mtry\u001b[39;00m:\n\u001b[0;32m---> 72\u001b[0m         retval \u001b[38;5;241m=\u001b[39m \u001b[43mcfunc\u001b[49m\u001b[43m(\u001b[49m\u001b[38;5;241;43m*\u001b[39;49m\u001b[43margs\u001b[49m\u001b[43m,\u001b[49m\u001b[43m \u001b[49m\u001b[38;5;241;43m*\u001b[39;49m\u001b[38;5;241;43m*\u001b[39;49m\u001b[43mkwargs\u001b[49m\u001b[43m)\u001b[49m\n\u001b[1;32m     73\u001b[0m     \u001b[38;5;28;01mexcept\u001b[39;00m \u001b[38;5;167;01mTypeError\u001b[39;00m \u001b[38;5;28;01mas\u001b[39;00m e:\n\u001b[1;32m     74\u001b[0m         \u001b[38;5;28;01mif\u001b[39;00m \u001b[38;5;129;01mnot\u001b[39;00m e\u001b[38;5;241m.\u001b[39margs \u001b[38;5;129;01mor\u001b[39;00m \u001b[38;5;129;01mnot\u001b[39;00m e\u001b[38;5;241m.\u001b[39margs[\u001b[38;5;241m0\u001b[39m]\u001b[38;5;241m.\u001b[39mstartswith(\u001b[38;5;124m'\u001b[39m\u001b[38;5;124munhashable type:\u001b[39m\u001b[38;5;124m'\u001b[39m):\n",
      "File \u001b[0;32m/usr/lib/python3/dist-packages/sympy/core/mul.py:1000\u001b[0m, in \u001b[0;36mMul._eval_derivative_n_times\u001b[0;34m(self, s, n)\u001b[0m\n\u001b[1;32m    998\u001b[0m terms \u001b[38;5;241m=\u001b[39m []\n\u001b[1;32m    999\u001b[0m \u001b[38;5;28;01mfor\u001b[39;00m kvals, c \u001b[38;5;129;01min\u001b[39;00m multinomial_coefficients_iterator(m, n):\n\u001b[0;32m-> 1000\u001b[0m     p \u001b[38;5;241m=\u001b[39m prod([arg\u001b[38;5;241m.\u001b[39mdiff((s, k)) \u001b[38;5;28;01mfor\u001b[39;00m k, arg \u001b[38;5;129;01min\u001b[39;00m \u001b[38;5;28mzip\u001b[39m(kvals, args)])\n\u001b[1;32m   1001\u001b[0m     terms\u001b[38;5;241m.\u001b[39mappend(c \u001b[38;5;241m*\u001b[39m p)\n\u001b[1;32m   1002\u001b[0m \u001b[38;5;28;01mreturn\u001b[39;00m Add(\u001b[38;5;241m*\u001b[39mterms)\n",
      "File \u001b[0;32m/usr/lib/python3/dist-packages/sympy/core/mul.py:1000\u001b[0m, in \u001b[0;36m<listcomp>\u001b[0;34m(.0)\u001b[0m\n\u001b[1;32m    998\u001b[0m terms \u001b[38;5;241m=\u001b[39m []\n\u001b[1;32m    999\u001b[0m \u001b[38;5;28;01mfor\u001b[39;00m kvals, c \u001b[38;5;129;01min\u001b[39;00m multinomial_coefficients_iterator(m, n):\n\u001b[0;32m-> 1000\u001b[0m     p \u001b[38;5;241m=\u001b[39m prod([\u001b[43marg\u001b[49m\u001b[38;5;241;43m.\u001b[39;49m\u001b[43mdiff\u001b[49m\u001b[43m(\u001b[49m\u001b[43m(\u001b[49m\u001b[43ms\u001b[49m\u001b[43m,\u001b[49m\u001b[43m \u001b[49m\u001b[43mk\u001b[49m\u001b[43m)\u001b[49m\u001b[43m)\u001b[49m \u001b[38;5;28;01mfor\u001b[39;00m k, arg \u001b[38;5;129;01min\u001b[39;00m \u001b[38;5;28mzip\u001b[39m(kvals, args)])\n\u001b[1;32m   1001\u001b[0m     terms\u001b[38;5;241m.\u001b[39mappend(c \u001b[38;5;241m*\u001b[39m p)\n\u001b[1;32m   1002\u001b[0m \u001b[38;5;28;01mreturn\u001b[39;00m Add(\u001b[38;5;241m*\u001b[39mterms)\n",
      "File \u001b[0;32m/usr/lib/python3/dist-packages/sympy/core/expr.py:3526\u001b[0m, in \u001b[0;36mExpr.diff\u001b[0;34m(self, *symbols, **assumptions)\u001b[0m\n\u001b[1;32m   3524\u001b[0m \u001b[38;5;28;01mdef\u001b[39;00m \u001b[38;5;21mdiff\u001b[39m(\u001b[38;5;28mself\u001b[39m, \u001b[38;5;241m*\u001b[39msymbols, \u001b[38;5;241m*\u001b[39m\u001b[38;5;241m*\u001b[39massumptions):\n\u001b[1;32m   3525\u001b[0m     assumptions\u001b[38;5;241m.\u001b[39msetdefault(\u001b[38;5;124m\"\u001b[39m\u001b[38;5;124mevaluate\u001b[39m\u001b[38;5;124m\"\u001b[39m, \u001b[38;5;28;01mTrue\u001b[39;00m)\n\u001b[0;32m-> 3526\u001b[0m     \u001b[38;5;28;01mreturn\u001b[39;00m \u001b[43m_derivative_dispatch\u001b[49m\u001b[43m(\u001b[49m\u001b[38;5;28;43mself\u001b[39;49m\u001b[43m,\u001b[49m\u001b[43m \u001b[49m\u001b[38;5;241;43m*\u001b[39;49m\u001b[43msymbols\u001b[49m\u001b[43m,\u001b[49m\u001b[43m \u001b[49m\u001b[38;5;241;43m*\u001b[39;49m\u001b[38;5;241;43m*\u001b[39;49m\u001b[43massumptions\u001b[49m\u001b[43m)\u001b[49m\n",
      "File \u001b[0;32m/usr/lib/python3/dist-packages/sympy/core/function.py:1919\u001b[0m, in \u001b[0;36m_derivative_dispatch\u001b[0;34m(expr, *variables, **kwargs)\u001b[0m\n\u001b[1;32m   1917\u001b[0m     \u001b[38;5;28;01mfrom\u001b[39;00m \u001b[38;5;21;01msympy\u001b[39;00m\u001b[38;5;21;01m.\u001b[39;00m\u001b[38;5;21;01mtensor\u001b[39;00m\u001b[38;5;21;01m.\u001b[39;00m\u001b[38;5;21;01marray\u001b[39;00m\u001b[38;5;21;01m.\u001b[39;00m\u001b[38;5;21;01marray_derivatives\u001b[39;00m \u001b[38;5;28;01mimport\u001b[39;00m ArrayDerivative\n\u001b[1;32m   1918\u001b[0m     \u001b[38;5;28;01mreturn\u001b[39;00m ArrayDerivative(expr, \u001b[38;5;241m*\u001b[39mvariables, \u001b[38;5;241m*\u001b[39m\u001b[38;5;241m*\u001b[39mkwargs)\n\u001b[0;32m-> 1919\u001b[0m \u001b[38;5;28;01mreturn\u001b[39;00m \u001b[43mDerivative\u001b[49m\u001b[43m(\u001b[49m\u001b[43mexpr\u001b[49m\u001b[43m,\u001b[49m\u001b[43m \u001b[49m\u001b[38;5;241;43m*\u001b[39;49m\u001b[43mvariables\u001b[49m\u001b[43m,\u001b[49m\u001b[43m \u001b[49m\u001b[38;5;241;43m*\u001b[39;49m\u001b[38;5;241;43m*\u001b[39;49m\u001b[43mkwargs\u001b[49m\u001b[43m)\u001b[49m\n",
      "File \u001b[0;32m/usr/lib/python3/dist-packages/sympy/core/function.py:1446\u001b[0m, in \u001b[0;36mDerivative.__new__\u001b[0;34m(cls, expr, *variables, **kwargs)\u001b[0m\n\u001b[1;32m   1439\u001b[0m     \u001b[38;5;28;01mif\u001b[39;00m \u001b[38;5;129;01mnot\u001b[39;00m old_v\u001b[38;5;241m.\u001b[39mis_scalar \u001b[38;5;129;01mand\u001b[39;00m \u001b[38;5;129;01mnot\u001b[39;00m \u001b[38;5;28mhasattr\u001b[39m(\n\u001b[1;32m   1440\u001b[0m             old_v, \u001b[38;5;124m'\u001b[39m\u001b[38;5;124m_eval_derivative\u001b[39m\u001b[38;5;124m'\u001b[39m):\n\u001b[1;32m   1441\u001b[0m         \u001b[38;5;66;03m# special hack providing evaluation for classes\u001b[39;00m\n\u001b[1;32m   1442\u001b[0m         \u001b[38;5;66;03m# that have defined is_scalar=True but have no\u001b[39;00m\n\u001b[1;32m   1443\u001b[0m         \u001b[38;5;66;03m# _eval_derivative defined\u001b[39;00m\n\u001b[1;32m   1444\u001b[0m         expr \u001b[38;5;241m*\u001b[39m\u001b[38;5;241m=\u001b[39m old_v\u001b[38;5;241m.\u001b[39mdiff(old_v)\n\u001b[0;32m-> 1446\u001b[0m obj \u001b[38;5;241m=\u001b[39m \u001b[38;5;28;43mcls\u001b[39;49m\u001b[38;5;241;43m.\u001b[39;49m\u001b[43m_dispatch_eval_derivative_n_times\u001b[49m\u001b[43m(\u001b[49m\u001b[43mexpr\u001b[49m\u001b[43m,\u001b[49m\u001b[43m \u001b[49m\u001b[43mv\u001b[49m\u001b[43m,\u001b[49m\u001b[43m \u001b[49m\u001b[43mcount\u001b[49m\u001b[43m)\u001b[49m\n\u001b[1;32m   1447\u001b[0m \u001b[38;5;28;01mif\u001b[39;00m obj \u001b[38;5;129;01mis\u001b[39;00m \u001b[38;5;129;01mnot\u001b[39;00m \u001b[38;5;28;01mNone\u001b[39;00m \u001b[38;5;129;01mand\u001b[39;00m obj\u001b[38;5;241m.\u001b[39mis_zero:\n\u001b[1;32m   1448\u001b[0m     \u001b[38;5;28;01mreturn\u001b[39;00m obj\n",
      "File \u001b[0;32m/usr/lib/python3/dist-packages/sympy/core/function.py:1908\u001b[0m, in \u001b[0;36mDerivative._dispatch_eval_derivative_n_times\u001b[0;34m(cls, expr, v, count)\u001b[0m\n\u001b[1;32m   1902\u001b[0m \u001b[38;5;129m@classmethod\u001b[39m\n\u001b[1;32m   1903\u001b[0m \u001b[38;5;28;01mdef\u001b[39;00m \u001b[38;5;21m_dispatch_eval_derivative_n_times\u001b[39m(\u001b[38;5;28mcls\u001b[39m, expr, v, count):\n\u001b[1;32m   1904\u001b[0m     \u001b[38;5;66;03m# Evaluate the derivative `n` times.  If\u001b[39;00m\n\u001b[1;32m   1905\u001b[0m     \u001b[38;5;66;03m# `_eval_derivative_n_times` is not overridden by the current\u001b[39;00m\n\u001b[1;32m   1906\u001b[0m     \u001b[38;5;66;03m# object, the default in `Basic` will call a loop over\u001b[39;00m\n\u001b[1;32m   1907\u001b[0m     \u001b[38;5;66;03m# `_eval_derivative`:\u001b[39;00m\n\u001b[0;32m-> 1908\u001b[0m     \u001b[38;5;28;01mreturn\u001b[39;00m \u001b[43mexpr\u001b[49m\u001b[38;5;241;43m.\u001b[39;49m\u001b[43m_eval_derivative_n_times\u001b[49m\u001b[43m(\u001b[49m\u001b[43mv\u001b[49m\u001b[43m,\u001b[49m\u001b[43m \u001b[49m\u001b[43mcount\u001b[49m\u001b[43m)\u001b[49m\n",
      "File \u001b[0;32m/usr/lib/python3/dist-packages/sympy/core/basic.py:1694\u001b[0m, in \u001b[0;36mBasic._eval_derivative_n_times\u001b[0;34m(self, s, n)\u001b[0m\n\u001b[1;32m   1692\u001b[0m obj \u001b[38;5;241m=\u001b[39m \u001b[38;5;28mself\u001b[39m\n\u001b[1;32m   1693\u001b[0m \u001b[38;5;28;01mfor\u001b[39;00m i \u001b[38;5;129;01min\u001b[39;00m \u001b[38;5;28mrange\u001b[39m(n):\n\u001b[0;32m-> 1694\u001b[0m     obj2 \u001b[38;5;241m=\u001b[39m \u001b[43mobj\u001b[49m\u001b[38;5;241;43m.\u001b[39;49m\u001b[43m_eval_derivative\u001b[49m\u001b[43m(\u001b[49m\u001b[43ms\u001b[49m\u001b[43m)\u001b[49m\n\u001b[1;32m   1695\u001b[0m     \u001b[38;5;28;01mif\u001b[39;00m obj \u001b[38;5;241m==\u001b[39m obj2 \u001b[38;5;129;01mor\u001b[39;00m obj2 \u001b[38;5;129;01mis\u001b[39;00m \u001b[38;5;28;01mNone\u001b[39;00m:\n\u001b[1;32m   1696\u001b[0m         \u001b[38;5;28;01mbreak\u001b[39;00m\n",
      "File \u001b[0;32m/usr/lib/python3/dist-packages/sympy/core/cache.py:72\u001b[0m, in \u001b[0;36m__cacheit.<locals>.func_wrapper.<locals>.wrapper\u001b[0;34m(*args, **kwargs)\u001b[0m\n\u001b[1;32m     69\u001b[0m \u001b[38;5;129m@wraps\u001b[39m(func)\n\u001b[1;32m     70\u001b[0m \u001b[38;5;28;01mdef\u001b[39;00m \u001b[38;5;21mwrapper\u001b[39m(\u001b[38;5;241m*\u001b[39margs, \u001b[38;5;241m*\u001b[39m\u001b[38;5;241m*\u001b[39mkwargs):\n\u001b[1;32m     71\u001b[0m     \u001b[38;5;28;01mtry\u001b[39;00m:\n\u001b[0;32m---> 72\u001b[0m         retval \u001b[38;5;241m=\u001b[39m \u001b[43mcfunc\u001b[49m\u001b[43m(\u001b[49m\u001b[38;5;241;43m*\u001b[39;49m\u001b[43margs\u001b[49m\u001b[43m,\u001b[49m\u001b[43m \u001b[49m\u001b[38;5;241;43m*\u001b[39;49m\u001b[38;5;241;43m*\u001b[39;49m\u001b[43mkwargs\u001b[49m\u001b[43m)\u001b[49m\n\u001b[1;32m     73\u001b[0m     \u001b[38;5;28;01mexcept\u001b[39;00m \u001b[38;5;167;01mTypeError\u001b[39;00m \u001b[38;5;28;01mas\u001b[39;00m e:\n\u001b[1;32m     74\u001b[0m         \u001b[38;5;28;01mif\u001b[39;00m \u001b[38;5;129;01mnot\u001b[39;00m e\u001b[38;5;241m.\u001b[39margs \u001b[38;5;129;01mor\u001b[39;00m \u001b[38;5;129;01mnot\u001b[39;00m e\u001b[38;5;241m.\u001b[39margs[\u001b[38;5;241m0\u001b[39m]\u001b[38;5;241m.\u001b[39mstartswith(\u001b[38;5;124m'\u001b[39m\u001b[38;5;124munhashable type:\u001b[39m\u001b[38;5;124m'\u001b[39m):\n",
      "File \u001b[0;32m/usr/lib/python3/dist-packages/sympy/core/add.py:499\u001b[0m, in \u001b[0;36mAdd._eval_derivative\u001b[0;34m(self, s)\u001b[0m\n\u001b[1;32m    497\u001b[0m \u001b[38;5;129m@cacheit\u001b[39m\n\u001b[1;32m    498\u001b[0m \u001b[38;5;28;01mdef\u001b[39;00m \u001b[38;5;21m_eval_derivative\u001b[39m(\u001b[38;5;28mself\u001b[39m, s):\n\u001b[0;32m--> 499\u001b[0m     \u001b[38;5;28;01mreturn\u001b[39;00m \u001b[38;5;28mself\u001b[39m\u001b[38;5;241m.\u001b[39mfunc(\u001b[38;5;241m*\u001b[39m[a\u001b[38;5;241m.\u001b[39mdiff(s) \u001b[38;5;28;01mfor\u001b[39;00m a \u001b[38;5;129;01min\u001b[39;00m \u001b[38;5;28mself\u001b[39m\u001b[38;5;241m.\u001b[39margs])\n",
      "File \u001b[0;32m/usr/lib/python3/dist-packages/sympy/core/add.py:499\u001b[0m, in \u001b[0;36m<listcomp>\u001b[0;34m(.0)\u001b[0m\n\u001b[1;32m    497\u001b[0m \u001b[38;5;129m@cacheit\u001b[39m\n\u001b[1;32m    498\u001b[0m \u001b[38;5;28;01mdef\u001b[39;00m \u001b[38;5;21m_eval_derivative\u001b[39m(\u001b[38;5;28mself\u001b[39m, s):\n\u001b[0;32m--> 499\u001b[0m     \u001b[38;5;28;01mreturn\u001b[39;00m \u001b[38;5;28mself\u001b[39m\u001b[38;5;241m.\u001b[39mfunc(\u001b[38;5;241m*\u001b[39m[\u001b[43ma\u001b[49m\u001b[38;5;241;43m.\u001b[39;49m\u001b[43mdiff\u001b[49m\u001b[43m(\u001b[49m\u001b[43ms\u001b[49m\u001b[43m)\u001b[49m \u001b[38;5;28;01mfor\u001b[39;00m a \u001b[38;5;129;01min\u001b[39;00m \u001b[38;5;28mself\u001b[39m\u001b[38;5;241m.\u001b[39margs])\n",
      "File \u001b[0;32m/usr/lib/python3/dist-packages/sympy/core/expr.py:3526\u001b[0m, in \u001b[0;36mExpr.diff\u001b[0;34m(self, *symbols, **assumptions)\u001b[0m\n\u001b[1;32m   3524\u001b[0m \u001b[38;5;28;01mdef\u001b[39;00m \u001b[38;5;21mdiff\u001b[39m(\u001b[38;5;28mself\u001b[39m, \u001b[38;5;241m*\u001b[39msymbols, \u001b[38;5;241m*\u001b[39m\u001b[38;5;241m*\u001b[39massumptions):\n\u001b[1;32m   3525\u001b[0m     assumptions\u001b[38;5;241m.\u001b[39msetdefault(\u001b[38;5;124m\"\u001b[39m\u001b[38;5;124mevaluate\u001b[39m\u001b[38;5;124m\"\u001b[39m, \u001b[38;5;28;01mTrue\u001b[39;00m)\n\u001b[0;32m-> 3526\u001b[0m     \u001b[38;5;28;01mreturn\u001b[39;00m \u001b[43m_derivative_dispatch\u001b[49m\u001b[43m(\u001b[49m\u001b[38;5;28;43mself\u001b[39;49m\u001b[43m,\u001b[49m\u001b[43m \u001b[49m\u001b[38;5;241;43m*\u001b[39;49m\u001b[43msymbols\u001b[49m\u001b[43m,\u001b[49m\u001b[43m \u001b[49m\u001b[38;5;241;43m*\u001b[39;49m\u001b[38;5;241;43m*\u001b[39;49m\u001b[43massumptions\u001b[49m\u001b[43m)\u001b[49m\n",
      "File \u001b[0;32m/usr/lib/python3/dist-packages/sympy/core/function.py:1919\u001b[0m, in \u001b[0;36m_derivative_dispatch\u001b[0;34m(expr, *variables, **kwargs)\u001b[0m\n\u001b[1;32m   1917\u001b[0m     \u001b[38;5;28;01mfrom\u001b[39;00m \u001b[38;5;21;01msympy\u001b[39;00m\u001b[38;5;21;01m.\u001b[39;00m\u001b[38;5;21;01mtensor\u001b[39;00m\u001b[38;5;21;01m.\u001b[39;00m\u001b[38;5;21;01marray\u001b[39;00m\u001b[38;5;21;01m.\u001b[39;00m\u001b[38;5;21;01marray_derivatives\u001b[39;00m \u001b[38;5;28;01mimport\u001b[39;00m ArrayDerivative\n\u001b[1;32m   1918\u001b[0m     \u001b[38;5;28;01mreturn\u001b[39;00m ArrayDerivative(expr, \u001b[38;5;241m*\u001b[39mvariables, \u001b[38;5;241m*\u001b[39m\u001b[38;5;241m*\u001b[39mkwargs)\n\u001b[0;32m-> 1919\u001b[0m \u001b[38;5;28;01mreturn\u001b[39;00m \u001b[43mDerivative\u001b[49m\u001b[43m(\u001b[49m\u001b[43mexpr\u001b[49m\u001b[43m,\u001b[49m\u001b[43m \u001b[49m\u001b[38;5;241;43m*\u001b[39;49m\u001b[43mvariables\u001b[49m\u001b[43m,\u001b[49m\u001b[43m \u001b[49m\u001b[38;5;241;43m*\u001b[39;49m\u001b[38;5;241;43m*\u001b[39;49m\u001b[43mkwargs\u001b[49m\u001b[43m)\u001b[49m\n",
      "File \u001b[0;32m/usr/lib/python3/dist-packages/sympy/core/function.py:1446\u001b[0m, in \u001b[0;36mDerivative.__new__\u001b[0;34m(cls, expr, *variables, **kwargs)\u001b[0m\n\u001b[1;32m   1439\u001b[0m     \u001b[38;5;28;01mif\u001b[39;00m \u001b[38;5;129;01mnot\u001b[39;00m old_v\u001b[38;5;241m.\u001b[39mis_scalar \u001b[38;5;129;01mand\u001b[39;00m \u001b[38;5;129;01mnot\u001b[39;00m \u001b[38;5;28mhasattr\u001b[39m(\n\u001b[1;32m   1440\u001b[0m             old_v, \u001b[38;5;124m'\u001b[39m\u001b[38;5;124m_eval_derivative\u001b[39m\u001b[38;5;124m'\u001b[39m):\n\u001b[1;32m   1441\u001b[0m         \u001b[38;5;66;03m# special hack providing evaluation for classes\u001b[39;00m\n\u001b[1;32m   1442\u001b[0m         \u001b[38;5;66;03m# that have defined is_scalar=True but have no\u001b[39;00m\n\u001b[1;32m   1443\u001b[0m         \u001b[38;5;66;03m# _eval_derivative defined\u001b[39;00m\n\u001b[1;32m   1444\u001b[0m         expr \u001b[38;5;241m*\u001b[39m\u001b[38;5;241m=\u001b[39m old_v\u001b[38;5;241m.\u001b[39mdiff(old_v)\n\u001b[0;32m-> 1446\u001b[0m obj \u001b[38;5;241m=\u001b[39m \u001b[38;5;28;43mcls\u001b[39;49m\u001b[38;5;241;43m.\u001b[39;49m\u001b[43m_dispatch_eval_derivative_n_times\u001b[49m\u001b[43m(\u001b[49m\u001b[43mexpr\u001b[49m\u001b[43m,\u001b[49m\u001b[43m \u001b[49m\u001b[43mv\u001b[49m\u001b[43m,\u001b[49m\u001b[43m \u001b[49m\u001b[43mcount\u001b[49m\u001b[43m)\u001b[49m\n\u001b[1;32m   1447\u001b[0m \u001b[38;5;28;01mif\u001b[39;00m obj \u001b[38;5;129;01mis\u001b[39;00m \u001b[38;5;129;01mnot\u001b[39;00m \u001b[38;5;28;01mNone\u001b[39;00m \u001b[38;5;129;01mand\u001b[39;00m obj\u001b[38;5;241m.\u001b[39mis_zero:\n\u001b[1;32m   1448\u001b[0m     \u001b[38;5;28;01mreturn\u001b[39;00m obj\n",
      "File \u001b[0;32m/usr/lib/python3/dist-packages/sympy/core/function.py:1908\u001b[0m, in \u001b[0;36mDerivative._dispatch_eval_derivative_n_times\u001b[0;34m(cls, expr, v, count)\u001b[0m\n\u001b[1;32m   1902\u001b[0m \u001b[38;5;129m@classmethod\u001b[39m\n\u001b[1;32m   1903\u001b[0m \u001b[38;5;28;01mdef\u001b[39;00m \u001b[38;5;21m_dispatch_eval_derivative_n_times\u001b[39m(\u001b[38;5;28mcls\u001b[39m, expr, v, count):\n\u001b[1;32m   1904\u001b[0m     \u001b[38;5;66;03m# Evaluate the derivative `n` times.  If\u001b[39;00m\n\u001b[1;32m   1905\u001b[0m     \u001b[38;5;66;03m# `_eval_derivative_n_times` is not overridden by the current\u001b[39;00m\n\u001b[1;32m   1906\u001b[0m     \u001b[38;5;66;03m# object, the default in `Basic` will call a loop over\u001b[39;00m\n\u001b[1;32m   1907\u001b[0m     \u001b[38;5;66;03m# `_eval_derivative`:\u001b[39;00m\n\u001b[0;32m-> 1908\u001b[0m     \u001b[38;5;28;01mreturn\u001b[39;00m \u001b[43mexpr\u001b[49m\u001b[38;5;241;43m.\u001b[39;49m\u001b[43m_eval_derivative_n_times\u001b[49m\u001b[43m(\u001b[49m\u001b[43mv\u001b[49m\u001b[43m,\u001b[49m\u001b[43m \u001b[49m\u001b[43mcount\u001b[49m\u001b[43m)\u001b[49m\n",
      "File \u001b[0;32m/usr/lib/python3/dist-packages/sympy/core/cache.py:72\u001b[0m, in \u001b[0;36m__cacheit.<locals>.func_wrapper.<locals>.wrapper\u001b[0;34m(*args, **kwargs)\u001b[0m\n\u001b[1;32m     69\u001b[0m \u001b[38;5;129m@wraps\u001b[39m(func)\n\u001b[1;32m     70\u001b[0m \u001b[38;5;28;01mdef\u001b[39;00m \u001b[38;5;21mwrapper\u001b[39m(\u001b[38;5;241m*\u001b[39margs, \u001b[38;5;241m*\u001b[39m\u001b[38;5;241m*\u001b[39mkwargs):\n\u001b[1;32m     71\u001b[0m     \u001b[38;5;28;01mtry\u001b[39;00m:\n\u001b[0;32m---> 72\u001b[0m         retval \u001b[38;5;241m=\u001b[39m \u001b[43mcfunc\u001b[49m\u001b[43m(\u001b[49m\u001b[38;5;241;43m*\u001b[39;49m\u001b[43margs\u001b[49m\u001b[43m,\u001b[49m\u001b[43m \u001b[49m\u001b[38;5;241;43m*\u001b[39;49m\u001b[38;5;241;43m*\u001b[39;49m\u001b[43mkwargs\u001b[49m\u001b[43m)\u001b[49m\n\u001b[1;32m     73\u001b[0m     \u001b[38;5;28;01mexcept\u001b[39;00m \u001b[38;5;167;01mTypeError\u001b[39;00m \u001b[38;5;28;01mas\u001b[39;00m e:\n\u001b[1;32m     74\u001b[0m         \u001b[38;5;28;01mif\u001b[39;00m \u001b[38;5;129;01mnot\u001b[39;00m e\u001b[38;5;241m.\u001b[39margs \u001b[38;5;129;01mor\u001b[39;00m \u001b[38;5;129;01mnot\u001b[39;00m e\u001b[38;5;241m.\u001b[39margs[\u001b[38;5;241m0\u001b[39m]\u001b[38;5;241m.\u001b[39mstartswith(\u001b[38;5;124m'\u001b[39m\u001b[38;5;124munhashable type:\u001b[39m\u001b[38;5;124m'\u001b[39m):\n",
      "File \u001b[0;32m/usr/lib/python3/dist-packages/sympy/core/mul.py:1000\u001b[0m, in \u001b[0;36mMul._eval_derivative_n_times\u001b[0;34m(self, s, n)\u001b[0m\n\u001b[1;32m    998\u001b[0m terms \u001b[38;5;241m=\u001b[39m []\n\u001b[1;32m    999\u001b[0m \u001b[38;5;28;01mfor\u001b[39;00m kvals, c \u001b[38;5;129;01min\u001b[39;00m multinomial_coefficients_iterator(m, n):\n\u001b[0;32m-> 1000\u001b[0m     p \u001b[38;5;241m=\u001b[39m prod([arg\u001b[38;5;241m.\u001b[39mdiff((s, k)) \u001b[38;5;28;01mfor\u001b[39;00m k, arg \u001b[38;5;129;01min\u001b[39;00m \u001b[38;5;28mzip\u001b[39m(kvals, args)])\n\u001b[1;32m   1001\u001b[0m     terms\u001b[38;5;241m.\u001b[39mappend(c \u001b[38;5;241m*\u001b[39m p)\n\u001b[1;32m   1002\u001b[0m \u001b[38;5;28;01mreturn\u001b[39;00m Add(\u001b[38;5;241m*\u001b[39mterms)\n",
      "File \u001b[0;32m/usr/lib/python3/dist-packages/sympy/core/mul.py:1000\u001b[0m, in \u001b[0;36m<listcomp>\u001b[0;34m(.0)\u001b[0m\n\u001b[1;32m    998\u001b[0m terms \u001b[38;5;241m=\u001b[39m []\n\u001b[1;32m    999\u001b[0m \u001b[38;5;28;01mfor\u001b[39;00m kvals, c \u001b[38;5;129;01min\u001b[39;00m multinomial_coefficients_iterator(m, n):\n\u001b[0;32m-> 1000\u001b[0m     p \u001b[38;5;241m=\u001b[39m prod([\u001b[43marg\u001b[49m\u001b[38;5;241;43m.\u001b[39;49m\u001b[43mdiff\u001b[49m\u001b[43m(\u001b[49m\u001b[43m(\u001b[49m\u001b[43ms\u001b[49m\u001b[43m,\u001b[49m\u001b[43m \u001b[49m\u001b[43mk\u001b[49m\u001b[43m)\u001b[49m\u001b[43m)\u001b[49m \u001b[38;5;28;01mfor\u001b[39;00m k, arg \u001b[38;5;129;01min\u001b[39;00m \u001b[38;5;28mzip\u001b[39m(kvals, args)])\n\u001b[1;32m   1001\u001b[0m     terms\u001b[38;5;241m.\u001b[39mappend(c \u001b[38;5;241m*\u001b[39m p)\n\u001b[1;32m   1002\u001b[0m \u001b[38;5;28;01mreturn\u001b[39;00m Add(\u001b[38;5;241m*\u001b[39mterms)\n",
      "File \u001b[0;32m/usr/lib/python3/dist-packages/sympy/core/expr.py:3526\u001b[0m, in \u001b[0;36mExpr.diff\u001b[0;34m(self, *symbols, **assumptions)\u001b[0m\n\u001b[1;32m   3524\u001b[0m \u001b[38;5;28;01mdef\u001b[39;00m \u001b[38;5;21mdiff\u001b[39m(\u001b[38;5;28mself\u001b[39m, \u001b[38;5;241m*\u001b[39msymbols, \u001b[38;5;241m*\u001b[39m\u001b[38;5;241m*\u001b[39massumptions):\n\u001b[1;32m   3525\u001b[0m     assumptions\u001b[38;5;241m.\u001b[39msetdefault(\u001b[38;5;124m\"\u001b[39m\u001b[38;5;124mevaluate\u001b[39m\u001b[38;5;124m\"\u001b[39m, \u001b[38;5;28;01mTrue\u001b[39;00m)\n\u001b[0;32m-> 3526\u001b[0m     \u001b[38;5;28;01mreturn\u001b[39;00m \u001b[43m_derivative_dispatch\u001b[49m\u001b[43m(\u001b[49m\u001b[38;5;28;43mself\u001b[39;49m\u001b[43m,\u001b[49m\u001b[43m \u001b[49m\u001b[38;5;241;43m*\u001b[39;49m\u001b[43msymbols\u001b[49m\u001b[43m,\u001b[49m\u001b[43m \u001b[49m\u001b[38;5;241;43m*\u001b[39;49m\u001b[38;5;241;43m*\u001b[39;49m\u001b[43massumptions\u001b[49m\u001b[43m)\u001b[49m\n",
      "File \u001b[0;32m/usr/lib/python3/dist-packages/sympy/core/function.py:1919\u001b[0m, in \u001b[0;36m_derivative_dispatch\u001b[0;34m(expr, *variables, **kwargs)\u001b[0m\n\u001b[1;32m   1917\u001b[0m     \u001b[38;5;28;01mfrom\u001b[39;00m \u001b[38;5;21;01msympy\u001b[39;00m\u001b[38;5;21;01m.\u001b[39;00m\u001b[38;5;21;01mtensor\u001b[39;00m\u001b[38;5;21;01m.\u001b[39;00m\u001b[38;5;21;01marray\u001b[39;00m\u001b[38;5;21;01m.\u001b[39;00m\u001b[38;5;21;01marray_derivatives\u001b[39;00m \u001b[38;5;28;01mimport\u001b[39;00m ArrayDerivative\n\u001b[1;32m   1918\u001b[0m     \u001b[38;5;28;01mreturn\u001b[39;00m ArrayDerivative(expr, \u001b[38;5;241m*\u001b[39mvariables, \u001b[38;5;241m*\u001b[39m\u001b[38;5;241m*\u001b[39mkwargs)\n\u001b[0;32m-> 1919\u001b[0m \u001b[38;5;28;01mreturn\u001b[39;00m \u001b[43mDerivative\u001b[49m\u001b[43m(\u001b[49m\u001b[43mexpr\u001b[49m\u001b[43m,\u001b[49m\u001b[43m \u001b[49m\u001b[38;5;241;43m*\u001b[39;49m\u001b[43mvariables\u001b[49m\u001b[43m,\u001b[49m\u001b[43m \u001b[49m\u001b[38;5;241;43m*\u001b[39;49m\u001b[38;5;241;43m*\u001b[39;49m\u001b[43mkwargs\u001b[49m\u001b[43m)\u001b[49m\n",
      "File \u001b[0;32m/usr/lib/python3/dist-packages/sympy/core/function.py:1285\u001b[0m, in \u001b[0;36mDerivative.__new__\u001b[0;34m(cls, expr, *variables, **kwargs)\u001b[0m\n\u001b[1;32m   1282\u001b[0m array_likes \u001b[38;5;241m=\u001b[39m (\u001b[38;5;28mtuple\u001b[39m, \u001b[38;5;28mlist\u001b[39m, Tuple)\n\u001b[1;32m   1284\u001b[0m \u001b[38;5;28;01mfor\u001b[39;00m i, v \u001b[38;5;129;01min\u001b[39;00m \u001b[38;5;28menumerate\u001b[39m(variables):\n\u001b[0;32m-> 1285\u001b[0m     \u001b[38;5;28;01mif\u001b[39;00m \u001b[38;5;28;43misinstance\u001b[39;49m\u001b[43m(\u001b[49m\u001b[43mv\u001b[49m\u001b[43m,\u001b[49m\u001b[43m \u001b[49m\u001b[43mInteger\u001b[49m\u001b[43m)\u001b[49m:\n\u001b[1;32m   1286\u001b[0m         \u001b[38;5;28;01mif\u001b[39;00m i \u001b[38;5;241m==\u001b[39m \u001b[38;5;241m0\u001b[39m:\n\u001b[1;32m   1287\u001b[0m             \u001b[38;5;28;01mraise\u001b[39;00m \u001b[38;5;167;01mValueError\u001b[39;00m(\u001b[38;5;124m\"\u001b[39m\u001b[38;5;124mFirst variable cannot be a number: \u001b[39m\u001b[38;5;132;01m%i\u001b[39;00m\u001b[38;5;124m\"\u001b[39m \u001b[38;5;241m%\u001b[39m v)\n",
      "\u001b[0;31mKeyboardInterrupt\u001b[0m: "
     ]
    }
   ],
   "source": [
    "# Кратчайший цикл имеет длину k\n",
    "\n",
    "E_prob_of_shortest_cycle = gen_prob_of_shortest_cycles(n)\n",
    "E_num_of_shortest_cycle = [ x*N  for x in E_prob_of_shortest_cycle]\n",
    "\n",
    "num_shortest_cycle = gen_prob_of_shortest_cycles2(n)\n",
    "num_shortest_cycle = [ x*N  for x in num_shortest_cycle]\n",
    "\n",
    "(shortest_cycle_stat, shortest_cycle_array_len) = chi(num_shortest_cycle, E_num_of_shortest_cycle)\n",
    "\n",
    "shortest_cycle_quantile = chi2.ppf(1-0.05, df=shortest_cycle_array_len-1)\n",
    "p_value = chi2.sf(float(shortest_cycle_stat), int(shortest_cycle_array_len-1))\n",
    "\n",
    "print(\"Квантиль степени \" + str(shortest_cycle_array_len - 1) + \" = \" + str(shortest_cycle_quantile))\n",
    "print(\"Статистика для минимального цикла длины k = \" + str(shortest_cycle_stat))\n",
    "print(\"p-value = \" + str(p_value))"
   ]
  },
  {
   "cell_type": "code",
   "execution_count": null,
   "id": "63f86f9d",
   "metadata": {},
   "outputs": [],
   "source": [
    "# Порядки подстановок\n",
    "E_prob_of_orders = [((1 / math.factorial(n)) * math_num.stirling(n, k, kind=1)) for k in range(len(num_of_cycles))]\n",
    "E_num_of_orders = [ x*N  for x in E_prob_of_cycles]\n",
    "(order_stat, order_array_len) = chi(num_of_orders, E_num_of_orders)\n",
    "\n",
    "#print(E_num_of_cycles)\n",
    "\n",
    "cycle_quantile = chi2.ppf(1-0.05, df=cycle_array_len-1)\n",
    "p_value = chi2.sf(float(num_of_cycle_stat), int(cycle_array_len-1))\n",
    "\n",
    "print(\"Квантиль степени \" + str(cycle_array_len - 1) + \" = \" + str(cycle_quantile))\n",
    "print(\"Статистика для ровно k циклов = \" + str(num_of_cycle_stat))\n",
    "print(\"p-value = \" + str(p_value))"
   ]
  },
  {
   "cell_type": "markdown",
   "id": "59ee7e2e",
   "metadata": {},
   "source": [
    "## Show distributions"
   ]
  },
  {
   "cell_type": "code",
   "execution_count": null,
   "id": "82596945",
   "metadata": {},
   "outputs": [],
   "source": [
    "def compare_two_distr_graph(x, y):\n",
    "    k = np.array([i for i in range(1, len(x) + 1)]) \n",
    "    df_to_show = pd.DataFrame(columns = ['D1', 'D2'])\n",
    "    df_to_show['D1'] = x\n",
    "    df_to_show['D2'] = y\n",
    "    sns.displot(df_to_show, x=\"Values\", hue=\"Distribution\", kind=\"kde\", fill=True)\n",
    "\n",
    "prob_of_cycles = list(map(lambda x: x/N, num_of_cycles))\n",
    "compare_two_distr_graph(prob_of_cycles, E_prob_of_cycles)"
   ]
  },
  {
   "cell_type": "code",
   "execution_count": null,
   "id": "6a4683d5",
   "metadata": {},
   "outputs": [],
   "source": []
  },
  {
   "cell_type": "markdown",
   "id": "c561e3c8",
   "metadata": {},
   "source": [
    "## Correlation table"
   ]
  },
  {
   "cell_type": "code",
   "execution_count": 8,
   "id": "fe166be6",
   "metadata": {},
   "outputs": [],
   "source": [
    "def count_records(permutation: Permutation): \n",
    "    maximum = -1\n",
    "    records = 0 \n",
    "    for index, elem in enumerate(permutation.list()): \n",
    "         if elem > maximum: \n",
    "            records += 1\n",
    "            maximum = elem    \n",
    "    return records"
   ]
  },
  {
   "cell_type": "code",
   "execution_count": 9,
   "id": "13c0ae36",
   "metadata": {},
   "outputs": [],
   "source": [
    "def min_max_scaling(column):\n",
    "    return (column - column.min()) / (column.max() - column.min())\n",
    "\n",
    "def calculate_avg_length(a):\n",
    "    r = k = 0\n",
    "    for i in a:\n",
    "        r += k*i\n",
    "        k += 1\n",
    "    return r"
   ]
  },
  {
   "cell_type": "code",
   "execution_count": 10,
   "id": "94f1c83e",
   "metadata": {
    "scrolled": true
   },
   "outputs": [
    {
     "name": "stderr",
     "output_type": "stream",
     "text": [
      "100%|████████████████████████████████████| 16384/16384 [01:15<00:00, 216.03it/s]\n"
     ]
    },
    {
     "name": "stdout",
     "output_type": "stream",
     "text": [
      "n=100 N=16384  - Done, Time: 75.8\n"
     ]
    },
    {
     "name": "stderr",
     "output_type": "stream",
     "text": [
      "100%|████████████████████████████████████| 65536/65536 [05:22<00:00, 203.41it/s]\n"
     ]
    },
    {
     "name": "stdout",
     "output_type": "stream",
     "text": [
      "n=100 N=65536  - Done, Time: 398.0\n"
     ]
    },
    {
     "name": "stderr",
     "output_type": "stream",
     "text": [
      "100%|██████████████████████████████████| 262144/262144 [35:39<00:00, 122.50it/s]\n"
     ]
    },
    {
     "name": "stdout",
     "output_type": "stream",
     "text": [
      "n=100 N=262144  - Done, Time: 2538.7\n"
     ]
    }
   ],
   "source": [
    "# correlation table\n",
    "\n",
    "corr_df = pd.DataFrame(columns=['n','N','FP & SC', 'FP & Rec', 'FP & NoC', 'FP & Ord', 'FP & Inv', 'FP & Evn',\n",
    "                                'SC & Noc', 'SC & Rec', 'SC & Ord', 'SC & Inv', 'SC & Evn', 'Rec & NoC',\n",
    "                                'Rec & Ord', 'Rec & Inv', 'Rec & Evn', 'Noc & Ord', 'Noc & Inv', 'Noc & Evn',\n",
    "                                'Ord & Inv', 'Ord & Evn', 'Inv & Evn'])\n",
    "\n",
    "# длина подстановки n\n",
    "# длина выборки N\n",
    "n_N_values = [(10, 2**10), (10, 2**12), (10, 2**14), (10, 2**16), (10, 2**18),\n",
    "              (25, 2**10), (25, 2**12), (25, 2**14), (25, 2**16), (25, 2**18),\n",
    "              (50, 2**10), (50, 2**12), (50, 2**14), (50, 2**16), (50, 2**18),\n",
    "              (100, 2**10), (100, 2**12), (100, 2**14), (100, 2**16), (100, 2**18),\n",
    "              (200, 2**10), (200, 2**14), (200, 2**16), (200, 2**18),\n",
    "              (500, 2**10), (500, 2**14), (500, 2**16), (500, 2**18),\n",
    "              (1000, 2**10), (1000, 2**14), (1000, 2**16), \n",
    "             ]\n",
    "\n",
    "t1 = time.perf_counter()\n",
    "# n_N_values[1:2]\n",
    "for p in n_N_values[17:20]:\n",
    "    \n",
    "    n, N = p\n",
    "    \n",
    "    # 'Fixed points','Shortest cycle','Records', 'Number of cycles', 'Order', 'Inversions', 'Even'\n",
    "    df = pd.DataFrame(columns=['FP','SC','Rec', 'NoC', 'Ord', 'Inv', 'Evn'])\n",
    "\n",
    "    num_of_cycles = 0\n",
    "    num_of_fixed_points = 0\n",
    "    length_of_shortes_cycle = 0\n",
    "    order = 1\n",
    "    even = 0\n",
    "    inversions = 0\n",
    "    \n",
    "    for i in tqdm(range(N)):\n",
    "        a = Permutation(np.random.permutation(n))\n",
    "        num_of_cycles = a.cycles\n",
    "        if 1 in a.cycle_structure.keys():\n",
    "            num_of_fixed_points = a.cycle_structure[1]\n",
    "        else:\n",
    "            num_of_fixed_points = 0\n",
    "        length_of_shortes_cycle = min(a.cycle_structure.keys())\n",
    "        num_of_records = count_records(a)\n",
    "        order = 1\n",
    "        for x in list(a.cycle_structure.keys()):\n",
    "            order = np.lcm(order, x)\n",
    "        even = a.is_even\n",
    "        inversions = a.inversions()\n",
    "        df.loc[len(df)] = [num_of_fixed_points, length_of_shortes_cycle, num_of_records, num_of_cycles, order, inversions, even]        \n",
    "            \n",
    "    print(\"n=\"+ str(n), \"N=\" + str(N), \" - Done,\" + \" Time: \" + str(round(time.perf_counter() - t1, 1)))\n",
    "    df = df.astype({\"Evn\": int})\n",
    "    #for col in df.columns:\n",
    "    #    df[col] = min_max_scaling(df[col])\n",
    "    cm = df.corr()\n",
    "    corr_df.loc[len(corr_df)] = [n, N, cm['FP']['SC'], cm['FP']['Rec'], cm['FP']['NoC'], cm['FP']['Ord'], cm['FP']['Inv'],\n",
    "                                 cm['FP']['Evn'], cm['SC']['Rec'], cm['SC']['NoC'], cm['SC']['Ord'], cm['SC']['Inv'], cm['SC']['Evn'],\n",
    "                                 cm['Rec']['NoC'], cm['Rec']['Ord'], cm['Rec']['Inv'], cm['Rec']['Evn'], cm['NoC']['Ord'],\n",
    "                                 cm['NoC']['Inv'], cm['NoC']['Evn'], cm['Ord']['Inv'], cm['Ord']['Evn'], cm['Inv']['Evn'],\n",
    "                                ]\n",
    "\n",
    "\n",
    "corr_df = corr_df.round(3)\n",
    "corr_df = corr_df.astype({\"n\": int, \"N\": int})\n",
    "# df.to_csv(\"./df.csv\", index=None)  \n",
    "# df.to_csv(\"./df.csv\", index=None, mode='a', header=None)  \n",
    "# corr_df.to_csv(\"./corr.csv\", index=None)  \n",
    "corr_df.to_csv(\"./corr.csv\", index=None, mode='a', header=None)  "
   ]
  },
  {
   "cell_type": "code",
   "execution_count": 11,
   "id": "f66ea627",
   "metadata": {},
   "outputs": [
    {
     "data": {
      "text/plain": [
       "<AxesSubplot:>"
      ]
     },
     "execution_count": 11,
     "metadata": {},
     "output_type": "execute_result"
    },
    {
     "data": {
      "image/png": "[encoded data removed]",
      "text/plain": [
       "<Figure size 1000x500 with 2 Axes>"
      ]
     },
     "metadata": {},
     "output_type": "display_data"
    }
   ],
   "source": [
    "plt.figure(figsize=(10, 5))\n",
    "sns.heatmap(df.corr(), annot=True)"
   ]
  },
  {
   "cell_type": "code",
   "execution_count": 94,
   "id": "49c0d64a",
   "metadata": {},
   "outputs": [
    {
     "name": "stdout",
     "output_type": "stream",
     "text": [
      "        FP  SC  Rec  NoC  Ord  Inv  Evn\n",
      "0        1   1    3    4  114  139    0\n",
      "1        1   1    3    5  132  198    1\n",
      "2        0   3    3    4  330  179    0\n",
      "3        1   1    5    5  264  152    1\n",
      "4        1   1    4    3   95  110    1\n",
      "...     ..  ..  ...  ...  ...  ...  ...\n",
      "262139   2   1    3    4   42  151    0\n",
      "262140   1   1    5    4  240  149    0\n",
      "262141   0   3    3    2   66  179    0\n",
      "262142   0   2    2    5  120  116    1\n",
      "262143   0   2    3    5   30  192    1\n",
      "\n",
      "[262144 rows x 7 columns]\n"
     ]
    }
   ],
   "source": [
    "print(df)"
   ]
  },
  {
   "cell_type": "code",
   "execution_count": null,
   "id": "c95b6f2c",
   "metadata": {},
   "outputs": [],
   "source": []
  },
  {
   "cell_type": "code",
   "execution_count": null,
   "id": "14c8ec67",
   "metadata": {},
   "outputs": [],
   "source": []
  },
  {
   "cell_type": "code",
   "execution_count": null,
   "id": "1de588e2",
   "metadata": {},
   "outputs": [],
   "source": []
  },
  {
   "cell_type": "code",
   "execution_count": null,
   "id": "b5e92958",
   "metadata": {},
   "outputs": [],
   "source": []
  },
  {
   "cell_type": "code",
   "execution_count": null,
   "id": "fe4f4183",
   "metadata": {},
   "outputs": [],
   "source": []
  },
  {
   "cell_type": "code",
   "execution_count": null,
   "id": "cdac10b9",
   "metadata": {},
   "outputs": [],
   "source": []
  },
  {
   "cell_type": "code",
   "execution_count": null,
   "id": "d15e0ed0",
   "metadata": {},
   "outputs": [],
   "source": []
  },
  {
   "cell_type": "code",
   "execution_count": null,
   "id": "8337a510",
   "metadata": {},
   "outputs": [],
   "source": []
  }
 ],
 "metadata": {
  "kernelspec": {
   "display_name": "Python 3 (ipykernel)",
   "language": "python",
   "name": "python3"
  },
  "language_info": {
   "codemirror_mode": {
    "name": "ipython",
    "version": 3
   },
   "file_extension": ".py",
   "mimetype": "text/x-python",
   "name": "python",
   "nbconvert_exporter": "python",
   "pygments_lexer": "ipython3",
   "version": "3.10.6"
  }
 },
 "nbformat": 4,
 "nbformat_minor": 5
}
