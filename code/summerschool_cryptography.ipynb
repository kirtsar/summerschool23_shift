{
 "cells": [
  {
   "cell_type": "code",
   "execution_count": 1,
   "id": "1ee4bf94",
   "metadata": {},
   "outputs": [],
   "source": [
    "from sympy.combinatorics import Permutation, PermutationGroup\n",
    "import numpy as np\n",
    "import math\n",
    "import sympy\n",
    "import sympy.functions.combinatorial.numbers as math_num\n",
    "from scipy.stats import chisquare\n",
    "from scipy.stats import chi2\n",
    "import pandas as pd\n",
    "import seaborn as sns\n",
    "import matplotlib.pyplot as plt\n",
    "import time\n",
    "from tqdm import tqdm\n"
   ]
  },
  {
   "cell_type": "code",
   "execution_count": 2,
   "id": "4f5c561b",
   "metadata": {},
   "outputs": [],
   "source": [
    "def conv(x, y):\n",
    "    r = max(len(x) - 1, len(y) - 1)\n",
    "    last_sum1 = 0\n",
    "    last_sum2 = 0\n",
    "    while ((last_sum1 < 5) | (last_sum2 < 5)) &  (r >= 0):\n",
    "        if (r <= len(x) - 1):\n",
    "            last_sum1 += x[r]\n",
    "        if (r <= len(y) - 1):\n",
    "            last_sum2 += y[r]\n",
    "        r = r - 1\n",
    "    r += 1\n",
    "    new_x = [0 for i in range(r+1)]\n",
    "    new_y = [0 for i in range(r+1)]\n",
    "    for i in range(r):\n",
    "        new_x[i] = x[i]\n",
    "        new_y[i] = y[i]\n",
    "    new_x[r] = last_sum1   \n",
    "    new_y[r] = last_sum2\n",
    "    # new_x, new_y = np.trim_zeros(new_x), np.trim_zeros(new_y)\n",
    "    while 0 in new_x: new_x.remove(0)\n",
    "    while 0 in new_y: new_y.remove(0)\n",
    "    #while(new_y[0] == 0):\n",
    "    #    new_y = new_y[1:]\n",
    "    return (new_x, new_y)"
   ]
  },
  {
   "cell_type": "code",
   "execution_count": 3,
   "id": "98c375db",
   "metadata": {},
   "outputs": [],
   "source": [
    "def chi(O, E):\n",
    "    print(O)\n",
    "    print(E)\n",
    "    O,E = conv(O, E)\n",
    "    l = len(O)\n",
    "    while 0 in O: O.remove(0)\n",
    "    while 0 in E: E.remove(0)\n",
    "    print(O)\n",
    "    print(E)\n",
    "    r = 0\n",
    "    for i in range(len(O)):\n",
    "        r += (O[i] - E[i])**2/E[i]\n",
    "    return (r, l)"
   ]
  },
  {
   "cell_type": "markdown",
   "id": "5a11ed77",
   "metadata": {},
   "source": [
    "## Permutation"
   ]
  },
  {
   "cell_type": "code",
   "execution_count": 21,
   "id": "cde77c54",
   "metadata": {},
   "outputs": [
    {
     "name": "stdout",
     "output_type": "stream",
     "text": [
      "(4)(0 1)(2 3)\n",
      "1\n",
      "[0, 802, 1779, 1128, 356, 31]\n",
      "[1512, 1568, 629, 356, 0, 31]\n",
      "[0, 2584, 710, 0, 0, 802]\n",
      "[3, 4, 1, 0, 2]\n",
      "7\n",
      "False\n"
     ]
    }
   ],
   "source": [
    "n = 5  # длина подстановки\n",
    "N = 2 ** 12 # размер выборки подстановок\n",
    "\n",
    "num_of_cycles = [0 for k in range(n+1)]\n",
    "num_of_fixed_points = [0 for k in range(n+1)]\n",
    "num_shortest_cycle = [0 for k in range(n+1)]\n",
    "\n",
    "a = Permutation(np.random.permutation(n))\n",
    "print(a)\n",
    "print(min(a.cycle_structure.keys()))\n",
    "\n",
    "for i in range(N):\n",
    "    a = Permutation(np.random.permutation(n))\n",
    "    cycle_num = a.cycles\n",
    "    num_of_cycles[a.cycles] += 1\n",
    "    if 1 in a.cycle_structure.keys():\n",
    "        num_of_fixed_points[a.cycle_structure[1]]  += 1\n",
    "    else:\n",
    "        num_of_fixed_points[0] += 1\n",
    "    num_shortest_cycle[min(a.cycle_structure.keys())] += 1 \n",
    "    \n",
    "print(num_of_cycles)\n",
    "print(num_of_fixed_points)\n",
    "print(num_shortest_cycle)\n",
    "print(a.list())\n",
    "print(a.inversions())\n",
    "print(a.is_even)\n",
    "print(a.cycle_structure.keys().mean()) # средняя длина циклов\n"
   ]
  },
  {
   "cell_type": "markdown",
   "id": "a68a4354",
   "metadata": {},
   "source": [
    "## Comparison of statistical distributions"
   ]
  },
  {
   "cell_type": "code",
   "execution_count": 5,
   "id": "cf174268",
   "metadata": {},
   "outputs": [
    {
     "name": "stdout",
     "output_type": "stream",
     "text": [
      "[1475, 1520, 748, 258, 81, 14, 0, 0, 0, 0, 0]\n",
      "[1506.8342857142857, 1506.8331569664904, 753.4222222222222, 251.12380952380954, 62.81481481481482, 12.515555555555554, 2.1333333333333333, 0.27089947089947086, 0.050793650793650794, 0, 0.00112874779541446]\n",
      "[1475, 1520, 748, 258, 81, 14]\n",
      "[1506.8342857142857, 1506.8331569664904, 753.4222222222222, 251.12380952380954, 62.81481481481482, 14.9717107583774]\n",
      "Квантиль степени 5 = 11.070497693516351\n",
      "Статистика для k неподвижных точек = 6.34267144665169\n",
      "p-value = 0.2742885837339039\n"
     ]
    }
   ],
   "source": [
    "# Неподвижные точки\n",
    "E_prob_of_fixed_points = [((1 / math.factorial(k)) * (sympy.subfactorial(n - k) / math.factorial(n - k))) for k in range(n+1)]\n",
    "E_num_of_fixed_points = [ x*N  for x in E_prob_of_fixed_points]\n",
    "(num_of_fixed_points_stat, points_array_len) = chi(num_of_fixed_points, E_num_of_fixed_points)\n",
    "\n",
    "# print(E_num_of_fixed_points)\n",
    "\n",
    "points_quantile = chi2.ppf(1-0.05, df=points_array_len-1)\n",
    "p_value = chi2.sf(float(num_of_fixed_points_stat), int(points_array_len-1))\n",
    "\n",
    "print(\"Квантиль степени \" + str(points_array_len - 1) + \" = \" + str(points_quantile))\n",
    "print(\"Статистика для k неподвижных точек = \" + str(num_of_fixed_points_stat))\n",
    "print(\"p-value = \" + str(p_value))"
   ]
  },
  {
   "cell_type": "code",
   "execution_count": 6,
   "id": "8522737c",
   "metadata": {},
   "outputs": [
    {
     "name": "stdout",
     "output_type": "stream",
     "text": [
      "[0, 412, 1172, 1292, 827, 307, 73, 13, 0, 0, 0]\n",
      "[0, 409.600000000000, 1158.74539682540, 1323.68253968254, 816.852204585538, 304.000000000000, 71.4192592592592, 10.6666666666667, 0.982010582010582, 0.0507936507936508, 0.00112874779541446]\n",
      "[412, 1172, 1292, 827, 307, 73, 13]\n",
      "[409.600000000000, 1158.74539682540, 1323.68253968254, 816.852204585538, 304.000000000000, 71.4192592592592, 11.7005996472663]\n",
      "Квантиль степени 6 = 12.591587243743977\n",
      "Статистика для ровно k циклов = 1.25896756174401\n",
      "p-value = 0.9738720085933817\n"
     ]
    }
   ],
   "source": [
    "# Длины циклов\n",
    "E_prob_of_cycles = [((1 / math.factorial(n)) * math_num.stirling(n, k, kind=1)) for k in range(len(num_of_cycles))]\n",
    "E_num_of_cycles = [ x*N  for x in E_prob_of_cycles]\n",
    "(num_of_cycle_stat, cycle_array_len) = chi(num_of_cycles, E_num_of_cycles)\n",
    "\n",
    "#print(E_num_of_cycles)\n",
    "\n",
    "cycle_quantile = chi2.ppf(1-0.05, df=cycle_array_len-1)\n",
    "p_value = chi2.sf(float(num_of_cycle_stat), int(cycle_array_len-1))\n",
    "\n",
    "print(\"Квантиль степени \" + str(cycle_array_len - 1) + \" = \" + str(cycle_quantile))\n",
    "print(\"Статистика для ровно k циклов = \" + str(num_of_cycle_stat))\n",
    "print(\"p-value = \" + str(p_value))"
   ]
  },
  {
   "cell_type": "code",
   "execution_count": 7,
   "id": "e594e19b",
   "metadata": {},
   "outputs": [],
   "source": [
    "# Кратчайший цикл имеет длину k\n",
    "\n",
    "def expindex(x, M):\n",
    "    res = x\n",
    "    for i in range(2, M + 1):\n",
    "        res += (x**i) / i\n",
    "    return -res\n",
    "\n",
    "def nthcoeff(f, x, n):\n",
    "    res = sympy.diff(f, x, n)\n",
    "    return res.subs(x, 0) / math.factorial(n)\n",
    "\n",
    "def get_polynom_for_cycle_length(M, n): \n",
    "    x = sympy.Symbol('x')\n",
    "    f = 1 - sympy.exp(-x) if  M == 0 else sympy.exp(expindex(x, M)) - sympy.exp(expindex(x, M + 1))\n",
    "    return nthcoeff(f / (1 - x), x, n)\n",
    "\n",
    "def gen_prob_of_shortest_cycles(n):\n",
    "    t = time.perf_counter()\n",
    "    short_cycle_length_exp = [0] * n\n",
    "    for i in tqdm(range(math.floor(n / 2) + 1)):\n",
    "        short_cycle_length_exp[i] = get_polynom_for_cycle_length(i, n) \n",
    "    short_cycle_length_exp[n-1] = get_polynom_for_cycle_length(n-1, n)\n",
    "    exp = np.array(np.array([float(i) for i in short_cycle_length_exp]))\n",
    "    # exp = np.trim_zeros(np.sort(exp))\n",
    "    return exp\n",
    "\n",
    "def gen_prob_of_shortest_cycles2(n):\n",
    "    exp = [0] * n\n",
    "    for i in range(1, math.floor(n / 2)):\n",
    "        exp[i] = math.exp(-sympy.harmonic(i)) - math.exp(-sympy.harmonic(i+1))\n",
    "    exp[0] = 1 - math.exp(-1)\n",
    "    exp[n-1] = 1 / n\n",
    "    return exp\n"
   ]
  },
  {
   "cell_type": "code",
   "execution_count": 8,
   "id": "4e2d64dc",
   "metadata": {},
   "outputs": [
    {
     "name": "stderr",
     "output_type": "stream",
     "text": [
      "100%|█████████████████████████████████████████████| 6/6 [01:34<00:00, 15.72s/it]\n"
     ]
    },
    {
     "name": "stdout",
     "output_type": "stream",
     "text": [
      "[2589.165808961772, 592.8930550702593, 259.0736960255423, 144.8561649072986, 92.44935974735574, 0, 0, 0, 0, 409.6]\n",
      "[2589.1657142857143, 592.7111111111111, 251.93650793650792, 170.66666666666666, 81.92, 0.0, 0.0, 0.0, 0.0, 409.6]\n",
      "[2589.165808961772, 592.8930550702593, 259.0736960255423, 144.8561649072986, 92.44935974735574, 409.6]\n",
      "[2589.1657142857143, 592.7111111111111, 251.93650793650792, 170.66666666666666, 81.92, 409.6]\n",
      "Квантиль степени 5 = 11.070497693516351\n",
      "Статистика для минимального цикла длины k = 5.459019666288368\n",
      "p-value = 0.36246045159685264\n"
     ]
    }
   ],
   "source": [
    "# Кратчайший цикл имеет длину k\n",
    "\n",
    "E_prob_of_shortest_cycle = gen_prob_of_shortest_cycles(n)\n",
    "E_num_of_shortest_cycle = [ x*N  for x in E_prob_of_shortest_cycle]\n",
    "\n",
    "num_shortest_cycle = gen_prob_of_shortest_cycles2(n)\n",
    "num_shortest_cycle = [ x*N  for x in num_shortest_cycle]\n",
    "\n",
    "(shortest_cycle_stat, shortest_cycle_array_len) = chi(num_shortest_cycle, E_num_of_shortest_cycle)\n",
    "\n",
    "shortest_cycle_quantile = chi2.ppf(1-0.05, df=shortest_cycle_array_len-1)\n",
    "p_value = chi2.sf(float(shortest_cycle_stat), int(shortest_cycle_array_len-1))\n",
    "\n",
    "print(\"Квантиль степени \" + str(shortest_cycle_array_len - 1) + \" = \" + str(shortest_cycle_quantile))\n",
    "print(\"Статистика для минимального цикла длины k = \" + str(shortest_cycle_stat))\n",
    "print(\"p-value = \" + str(p_value))"
   ]
  },
  {
   "cell_type": "markdown",
   "id": "59ee7e2e",
   "metadata": {},
   "source": [
    "## Show distributions"
   ]
  },
  {
   "cell_type": "code",
   "execution_count": null,
   "id": "82596945",
   "metadata": {},
   "outputs": [],
   "source": [
    "\n",
    "(inf, coef) = compare_formulas(n, n)\n",
    "x = np.array([i for i in range(1, len(coef) + 1)])\n",
    "plt.scatter(x, inf, c='b', marker='x', label='Limit of \\\"n\\\" to infinity', alpha=0.5)\n",
    "plt.plot(x, inf, c='b', alpha=0.4)\n",
    "plt.scatter(x, coef, c='r', marker='s', label='Got \\\"n\\\" from coefficients', alpha=0.5)\n",
    "plt.plot(x, coef, c='r', alpha=0.4)\n",
    "plt.legend(loc='center')\n",
    "plt.xlabel('Minimal cycle lengths', fontsize=10, labelpad=18)\n",
    "plt.ylabel('Probability', fontsize=10, labelpad=18)\n",
    "plt.title('Probabilities for the minimum cycle lengths (n = {})'.format(n), fontsize=14)\n",
    "plt.grid()\n",
    "plt.show()\n"
   ]
  },
  {
   "cell_type": "code",
   "execution_count": null,
   "id": "6a4683d5",
   "metadata": {},
   "outputs": [],
   "source": []
  },
  {
   "cell_type": "markdown",
   "id": "c561e3c8",
   "metadata": {},
   "source": [
    "## Correlation table"
   ]
  },
  {
   "cell_type": "code",
   "execution_count": 9,
   "id": "fe166be6",
   "metadata": {},
   "outputs": [],
   "source": [
    "def count_records(permutation: Permutation): \n",
    "    maximum = -1\n",
    "    records = 0 \n",
    "    for index, elem in enumerate(permutation.list()): \n",
    "         if elem > maximum: \n",
    "            records += 1\n",
    "            maximum = elem    \n",
    "    return records"
   ]
  },
  {
   "cell_type": "code",
   "execution_count": 39,
   "id": "13c0ae36",
   "metadata": {},
   "outputs": [],
   "source": [
    "def min_max_scaling(column):\n",
    "    return (column - column.min()) / (column.max() - column.min())"
   ]
  },
  {
   "cell_type": "code",
   "execution_count": 71,
   "id": "94f1c83e",
   "metadata": {
    "scrolled": true
   },
   "outputs": [
    {
     "name": "stderr",
     "output_type": "stream",
     "text": [
      "100%|██████████████████████████████████████| 1024/1024 [00:01<00:00, 661.29it/s]"
     ]
    },
    {
     "name": "stdout",
     "output_type": "stream",
     "text": [
      "n=10 N=1024  - Done, Time: 1.6\n"
     ]
    },
    {
     "name": "stderr",
     "output_type": "stream",
     "text": [
      "\n"
     ]
    }
   ],
   "source": [
    "# correlation table\n",
    "\n",
    "corr_df = pd.DataFrame(columns=['n','N','FP & SC', 'FP & Rec', 'FP & NoC', 'FP & Ord', 'FP & Inv', 'FP & Evn',\n",
    "                                'SC & Noc', 'SC & Rec', 'SC & Ord', 'SC & Inv', 'SC & Evn', 'Rec & NoC',\n",
    "                                'Rec & Ord', 'Rec & Inv', 'Rec & Evn', 'Noc & Ord', 'Noc & Inv', 'Noc & Evn',\n",
    "                                'Ord & Inv', 'Ord & Evn', 'Inv & Evn'])\n",
    "\n",
    "# длина подстановки n\n",
    "# длина выборки N\n",
    "n_N_values = [(10, 2**10), (10, 2**12), (10, 2**14), (10, 2**16), (10, 2**18),\n",
    "              (25, 2**10), (25, 2**12), (25, 2**14), (25, 2**16), (25, 2**18),\n",
    "              (50, 2**10), (50, 2**12), (50, 2**14), (50, 2**16), (50, 2**18),\n",
    "              (100, 2**10), (100, 2**12), (100, 2**14), (100, 2**16), (100, 2**18),\n",
    "              (200, 2**10), (200, 2**14), (200, 2**16), (200, 2**18),\n",
    "              (500, 2**10), (500, 2**14), (500, 2**16), (500, 2**18),\n",
    "              (1000, 2**10), (1000, 2**14), (1000, 2**16), \n",
    "             ]\n",
    "\n",
    "t1 = time.perf_counter()\n",
    "# n_N_values[1:2]\n",
    "for p in [(10, 2**10)]:\n",
    "    \n",
    "    n, N = p\n",
    "    t2 = time.perf_counter()\n",
    "    \n",
    "    # 'Fixed points','Shortest cycle','Records', 'Number of cycles', 'Order', 'Inversions', 'Even'\n",
    "    df = pd.DataFrame(columns=['FP','SC','Rec', 'NoC', 'Ord', 'Inv', 'Evn'])\n",
    "\n",
    "    num_of_cycles = 0\n",
    "    num_of_fixed_points = 0\n",
    "    length_of_shortes_cycle = 0\n",
    "    order = 1\n",
    "    even = 0\n",
    "    inversions = 0\n",
    "    \n",
    "    for i in tqdm(range(N)):\n",
    "        a = Permutation(np.random.permutation(n))\n",
    "        num_of_cycles = a.cycles\n",
    "        if 1 in a.cycle_structure.keys():\n",
    "            num_of_fixed_points = a.cycle_structure[1]\n",
    "        else:\n",
    "            num_of_fixed_points = 0\n",
    "        length_of_shortes_cycle = min(a.cycle_structure.keys())\n",
    "        num_of_records = count_records(a)\n",
    "        order = 1\n",
    "        for x in list(a.cycle_structure.keys()):\n",
    "            order = np.lcm(order, x)\n",
    "        even = a.is_even\n",
    "        inversions = a.inversions()\n",
    "        # avgl = [a.cycle_structure]\n",
    "        df.loc[len(df)] = [num_of_fixed_points, length_of_shortes_cycle, num_of_records, num_of_cycles, order, inversions, even]        \n",
    "            \n",
    "    print(\"n=\"+ str(n), \"N=\" + str(N), \" - Done,\" + \" Time: \" + str(round(time.perf_counter() - t1, 1)))\n",
    "    df = df.astype({\"Evn\": int})\n",
    "    for col in df.columns:\n",
    "        df[col] = min_max_scaling(df[col])\n",
    "    cm = df.corr()\n",
    "    corr_df.loc[len(corr_df)] = [n, N, cm['FP']['SC'], cm['FP']['Rec'], cm['FP']['NoC'], cm['FP']['Ord'], cm['FP']['Inv'],\n",
    "                                 cm['FP']['Evn'], cm['SC']['Rec'], cm['SC']['NoC'], cm['SC']['Ord'], cm['SC']['Inv'], cm['SC']['Evn'],\n",
    "                                 cm['Rec']['NoC'], cm['Rec']['Ord'], cm['Rec']['Inv'], cm['Rec']['Evn'], cm['NoC']['Ord'],\n",
    "                                 cm['NoC']['Inv'], cm['NoC']['Evn'], cm['Ord']['Inv'], cm['Ord']['Evn'], cm['Inv']['Evn']\n",
    "                                ]\n",
    "\n",
    "\n",
    "corr_df = corr_df.round(3)\n",
    "corr_df = corr_df.astype({\"n\": int, \"N\": int})\n",
    "df.to_csv(\"./df.csv\", index=None)  \n",
    "# df.to_csv(\"./df.csv\", index=None, mode='a', header=None)  \n",
    "corr_df.to_csv(\"./corr.csv\", index=None)  \n",
    "# corr_df.to_csv(\"./corr.csv\", index=None, mode='a', header=None)  "
   ]
  },
  {
   "cell_type": "code",
   "execution_count": 72,
   "id": "f66ea627",
   "metadata": {},
   "outputs": [
    {
     "data": {
      "text/plain": [
       "<AxesSubplot:>"
      ]
     },
     "execution_count": 72,
     "metadata": {},
     "output_type": "execute_result"
    },
    {
     "data": {
      "image/png": "[encoded data removed]",
      "text/plain": [
       "<Figure size 1000x500 with 2 Axes>"
      ]
     },
     "metadata": {},
     "output_type": "display_data"
    }
   ],
   "source": [
    "plt.figure(figsize=(10, 5))\n",
    "sns.heatmap(df.corr(), annot=True)"
   ]
  },
  {
   "cell_type": "code",
   "execution_count": null,
   "id": "49c0d64a",
   "metadata": {},
   "outputs": [],
   "source": [
    "print(df)"
   ]
  },
  {
   "cell_type": "code",
   "execution_count": null,
   "id": "c95b6f2c",
   "metadata": {},
   "outputs": [],
   "source": []
  },
  {
   "cell_type": "code",
   "execution_count": null,
   "id": "14c8ec67",
   "metadata": {},
   "outputs": [],
   "source": []
  },
  {
   "cell_type": "code",
   "execution_count": null,
   "id": "1de588e2",
   "metadata": {},
   "outputs": [],
   "source": []
  },
  {
   "cell_type": "code",
   "execution_count": null,
   "id": "b5e92958",
   "metadata": {},
   "outputs": [],
   "source": []
  },
  {
   "cell_type": "code",
   "execution_count": null,
   "id": "fe4f4183",
   "metadata": {},
   "outputs": [],
   "source": []
  },
  {
   "cell_type": "code",
   "execution_count": null,
   "id": "cdac10b9",
   "metadata": {},
   "outputs": [],
   "source": []
  },
  {
   "cell_type": "code",
   "execution_count": null,
   "id": "d15e0ed0",
   "metadata": {},
   "outputs": [],
   "source": []
  },
  {
   "cell_type": "code",
   "execution_count": null,
   "id": "8337a510",
   "metadata": {},
   "outputs": [],
   "source": []
  }
 ],
 "metadata": {
  "kernelspec": {
   "display_name": "Python 3 (ipykernel)",
   "language": "python",
   "name": "python3"
  },
  "language_info": {
   "codemirror_mode": {
    "name": "ipython",
    "version": 3
   },
   "file_extension": ".py",
   "mimetype": "text/x-python",
   "name": "python",
   "nbconvert_exporter": "python",
   "pygments_lexer": "ipython3",
   "version": "3.10.6"
  }
 },
 "nbformat": 4,
 "nbformat_minor": 5
}
